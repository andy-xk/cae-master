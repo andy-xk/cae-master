{
 "cells": [
  {
   "cell_type": "markdown",
   "metadata": {},
   "source": [
    "# PyNastran Examples"
   ]
  },
  {
   "cell_type": "markdown",
   "metadata": {},
   "source": [
    "This notebook helped me to understand the use and structure of pyNastran."
   ]
  },
  {
   "cell_type": "markdown",
   "metadata": {},
   "source": [
    "## Getting Nastran Data\n",
    "\n",
    "read modules"
   ]
  },
  {
   "cell_type": "code",
   "execution_count": 1,
   "metadata": {},
   "outputs": [
    {
     "data": {
      "text/plain": [
       "<module 'pyNastran' from '/workspace/.pip-modules/lib/python3.8/site-packages/pyNastran/__init__.py'>"
      ]
     },
     "execution_count": 1,
     "metadata": {},
     "output_type": "execute_result"
    }
   ],
   "source": [
    "import os\n",
    "import sys\n",
    "\n",
    "import pyNastran\n",
    "import csv\n",
    "\n",
    "from pyNastran.bdf.bdf import BDF, read_bdf\n",
    "from pyNastran.bdf.subcase import * # for write_set\n",
    "from pyNastran.utils import object_attributes, object_methods\n",
    "\n",
    "pyNastran"
   ]
  },
  {
   "cell_type": "markdown",
   "metadata": {},
   "source": [
    "### Elements and Nodes"
   ]
  },
  {
   "cell_type": "markdown",
   "metadata": {},
   "source": [
    "To get Nastran Information from a inputdeck one way is to read and parse the complete inputdeck with pyNastran. Then all data can be accessed with the BDF object. Set xref=False if you don't want a exit if the bdf code is not complete. But then, you won't have full access to all methods."
   ]
  },
  {
   "cell_type": "code",
   "execution_count": 2,
   "metadata": {},
   "outputs": [
    {
     "data": {
      "text/html": [
       "<text style=color:blue>DEBUG:   bdf.py:1010                  ---starting BDF.read_bdf of models/source.bdf---\n",
       "</text>"
      ],
      "text/plain": [
       "<IPython.core.display.HTML object>"
      ]
     },
     "metadata": {},
     "output_type": "display_data"
    },
    {
     "data": {
      "text/html": [
       "<text style=color:blue>DEBUG:   pybdf.py:556                 opening '/workspace/nastrancore/models/source.bdf'\n",
       "</text>"
      ],
      "text/plain": [
       "<IPython.core.display.HTML object>"
      ]
     },
     "metadata": {},
     "output_type": "display_data"
    },
    {
     "data": {
      "text/html": [
       "<text style=color:green>INFO:    bdf.py:2374                      rejecting card_name = 'SWLDPRM'\n",
       "</text>"
      ],
      "text/plain": [
       "<IPython.core.display.HTML object>"
      ]
     },
     "metadata": {},
     "output_type": "display_data"
    },
    {
     "data": {
      "text/html": [
       "<text style=color:blue>DEBUG:   bdf.py:1058                  ---finished BDF.read_bdf of models/source.bdf---\n",
       "</text>"
      ],
      "text/plain": [
       "<IPython.core.display.HTML object>"
      ]
     },
     "metadata": {},
     "output_type": "display_data"
    }
   ],
   "source": [
    "bdf_filename=\"models/source.bdf\"\n",
    "#bdf = BDF()\n",
    "# if the bdf does not contain all data, set cross-reference off\n",
    "bdf = read_bdf(bdf_filename, xref=False, punch=False)\n",
    "#bdf = read_bdf(bdf_filename, xref=True, punch=False)"
   ]
  },
  {
   "cell_type": "markdown",
   "metadata": {},
   "source": [
    "If you know the Ids of the cards you can get their information. Just use print to print out the card. You can use the doc string of the object to get the usage."
   ]
  },
  {
   "cell_type": "code",
   "execution_count": 3,
   "metadata": {},
   "outputs": [
    {
     "name": "stdout",
     "output_type": "stream",
     "text": [
      "\n",
      "    +------+-----+----+----+----+----+----+----+------+\n",
      "    |   1  |  2  | 3  | 4  | 5  | 6  |  7 | 8  |  9   |\n",
      "    +======+=====+====+====+====+====+====+====+======+\n",
      "    | GRID | NID | CP | X1 | X2 | X3 | CD | PS | SEID |\n",
      "    +------+-----+----+----+----+----+----+----+------+\n",
      "\n",
      "    Attributes\n",
      "    ----------\n",
      "    nid : int\n",
      "        node id\n",
      "    xyz : float ndarray\n",
      "        Raw location <:math:`x_1, x_2, x_3`>\n",
      "    cp : int\n",
      "        reference coordinate system\n",
      "    cd : int\n",
      "        analysis coordinate system\n",
      "    ps : str\n",
      "        nodal-based constraints\n",
      "    seid : int\n",
      "        superelement id\n",
      "    cp_ref : Coord() or None\n",
      "        cross-referenced cp\n",
      "    cd_ref : Coord() or None\n",
      "        cross-referenced cd\n",
      "\n",
      "    Methods\n",
      "    -------\n",
      "    Nid()\n",
      "        gets nid\n",
      "    Cp()\n",
      "        gets cp_ref.cid or cp depending on cross-referencing\n",
      "    Cd()\n",
      "        gets cd_ref.cid or cd depending on cross-referencing\n",
      "    Ps()\n",
      "        gets ps\n",
      "    SEid()\n",
      "        superelement id\n",
      "    get_position()\n",
      "        gets xyz in the global frame\n",
      "    get_position_wrt(model, cid)\n",
      "        gets xyz in a local frame\n",
      "    cross_reference(model)\n",
      "        cross-references the card\n",
      "    uncross_reference()\n",
      "        uncross-references the card\n",
      "    set_position(model, xyz, cid=0, xref=True)\n",
      "        updates the coordinate system\n",
      "\n",
      "    Using the GRID object::\n",
      "\n",
      "     model = read_bdf(bdf_filename)\n",
      "     node = model.Node(nid)\n",
      "\n",
      "     # gets the position of the node in the global frame\n",
      "     node.get_position()\n",
      "     node.get_position_wrt(model, cid=0)\n",
      "\n",
      "     # gets the position of the node in a local frame\n",
      "     node.get_position_wrt(model, cid=1)\n",
      "\n",
      "     # change the location of the node\n",
      "     node.set_position(model, array([1.,2.,3.]), cid=3)\n",
      "\n",
      "    \n",
      "GRID      700004         544.012-805.016  14.733  700004\n",
      "\n"
     ]
    }
   ],
   "source": [
    "grid = bdf.Node(700004)\n",
    "print(grid.__doc__)\n",
    "print(grid)"
   ]
  },
  {
   "cell_type": "code",
   "execution_count": 4,
   "metadata": {},
   "outputs": [
    {
     "data": {
      "text/plain": [
       "['CQUAD4',\n",
       " 2370440,\n",
       " 6362100,\n",
       " 3865042,\n",
       " 3865051,\n",
       " 3865048,\n",
       " 3865046,\n",
       " 0.0,\n",
       " 0.0,\n",
       " None,\n",
       " 0,\n",
       " None,\n",
       " None,\n",
       " None,\n",
       " None]"
      ]
     },
     "execution_count": 4,
     "metadata": {},
     "output_type": "execute_result"
    }
   ],
   "source": [
    "ele = bdf.Element(2370440)\n",
    "ele.raw_fields()"
   ]
  },
  {
   "cell_type": "code",
   "execution_count": 5,
   "metadata": {},
   "outputs": [
    {
     "data": {
      "text/plain": [
       "2370440"
      ]
     },
     "execution_count": 5,
     "metadata": {},
     "output_type": "execute_result"
    }
   ],
   "source": [
    "ele.get_field(1)"
   ]
  },
  {
   "cell_type": "code",
   "execution_count": 6,
   "metadata": {},
   "outputs": [
    {
     "data": {
      "text/plain": [
       "'CQUAD4'"
      ]
     },
     "execution_count": 6,
     "metadata": {},
     "output_type": "execute_result"
    }
   ],
   "source": [
    "ele.type"
   ]
  },
  {
   "cell_type": "code",
   "execution_count": 7,
   "metadata": {
    "scrolled": true
   },
   "outputs": [
    {
     "data": {
      "text/plain": [
       "{'nodes_ref': None,\n",
       " 'pid_ref': None,\n",
       " 'eid': 2370440,\n",
       " 'pid': 6362100,\n",
       " 'nodes': [3865042, 3865051, 3865048, 3865046],\n",
       " 'zoffset': 0.0,\n",
       " 'theta_mcid': 0.0,\n",
       " 'tflag': 0,\n",
       " 'T1': None,\n",
       " 'T2': None,\n",
       " 'T3': None,\n",
       " 'T4': None,\n",
       " 'theta_mcid_ref': None}"
      ]
     },
     "execution_count": 7,
     "metadata": {},
     "output_type": "execute_result"
    }
   ],
   "source": [
    "# See how fields can be addressed directly \n",
    "ele.__dict__"
   ]
  },
  {
   "cell_type": "code",
   "execution_count": 8,
   "metadata": {},
   "outputs": [
    {
     "data": {
      "text/plain": [
       "CQUAD4   2370440 6362100 3865042 3865051 3865048 3865046\n",
       "                              2."
      ]
     },
     "execution_count": 8,
     "metadata": {},
     "output_type": "execute_result"
    }
   ],
   "source": [
    "ele.T1 = 2.0\n",
    "ele"
   ]
  },
  {
   "cell_type": "code",
   "execution_count": 9,
   "metadata": {},
   "outputs": [
    {
     "data": {
      "text/plain": [
       "['Area',\n",
       " 'AreaCentroid',\n",
       " 'AreaCentroidNormal',\n",
       " 'Area_no_xref',\n",
       " 'Centroid',\n",
       " 'Centroid_no_xref',\n",
       " 'Mass',\n",
       " 'MassPerArea',\n",
       " 'Mass_breakdown',\n",
       " 'Mass_no_xref',\n",
       " 'Mid',\n",
       " 'Normal',\n",
       " 'Nsm',\n",
       " 'Pid',\n",
       " 'Theta_mcid',\n",
       " 'Thickness',\n",
       " 'add_card',\n",
       " 'add_op2_data',\n",
       " 'center_of_mass',\n",
       " 'cross_reference',\n",
       " 'deprecated',\n",
       " 'export_to_hdf5',\n",
       " 'flip_normal',\n",
       " 'get_area',\n",
       " 'get_edge_axes',\n",
       " 'get_edge_ids',\n",
       " 'get_edge_number_by_node_ids',\n",
       " 'get_field',\n",
       " 'get_node_positions',\n",
       " 'get_node_positions_no_xref',\n",
       " 'get_stats',\n",
       " 'get_thickness_scale',\n",
       " 'material_coordinate_system',\n",
       " 'mid',\n",
       " 'object_attributes',\n",
       " 'object_methods',\n",
       " 'prepare_node_ids',\n",
       " 'print_card',\n",
       " 'print_raw_card',\n",
       " 'print_repr_card',\n",
       " 'raw_fields',\n",
       " 'repr_fields',\n",
       " 'rstrip',\n",
       " 'safe_cross_reference',\n",
       " 'split_to_ctria3',\n",
       " 'uncross_reference',\n",
       " 'update_field',\n",
       " 'validate',\n",
       " 'validate_node_ids',\n",
       " 'verify_unique_node_ids',\n",
       " 'write_as_ctria3',\n",
       " 'write_card',\n",
       " 'write_card_16']"
      ]
     },
     "execution_count": 9,
     "metadata": {},
     "output_type": "execute_result"
    }
   ],
   "source": [
    "#get all puplic object methods of obhect CQUAD\n",
    "ele.object_methods()"
   ]
  },
  {
   "cell_type": "code",
   "execution_count": null,
   "metadata": {},
   "outputs": [],
   "source": []
  },
  {
   "cell_type": "code",
   "execution_count": 10,
   "metadata": {},
   "outputs": [
    {
     "data": {
      "text/plain": [
       "['AEFact',\n",
       " 'AELIST',\n",
       " 'AELink',\n",
       " 'AEList',\n",
       " 'AEParam',\n",
       " 'AEStat',\n",
       " 'AESurf',\n",
       " 'Acsid',\n",
       " 'Aero',\n",
       " 'Aeros',\n",
       " 'CAero',\n",
       " 'CMethod',\n",
       " 'Coord',\n",
       " 'DAREA',\n",
       " 'DConstr',\n",
       " 'DDVal',\n",
       " 'DELAY',\n",
       " 'DEQATN',\n",
       " 'DLoad',\n",
       " 'DMIG',\n",
       " 'DPHASE',\n",
       " 'DResp',\n",
       " 'DVcrel',\n",
       " 'DVmrel',\n",
       " 'DVprel',\n",
       " 'Desvar',\n",
       " 'Element',\n",
       " 'Elements',\n",
       " 'EmptyNode',\n",
       " 'EmptyNodes',\n",
       " 'FLFACT',\n",
       " 'Flutter',\n",
       " 'Gust',\n",
       " 'HyperelasticMaterial',\n",
       " 'Load',\n",
       " 'MPC',\n",
       " 'Mass',\n",
       " 'Material',\n",
       " 'Materials',\n",
       " 'Method',\n",
       " 'NLParm',\n",
       " 'NSM',\n",
       " 'Node',\n",
       " 'Nodes',\n",
       " 'PAero',\n",
       " 'Phbdy',\n",
       " 'Point',\n",
       " 'Points',\n",
       " 'Properties',\n",
       " 'Property',\n",
       " 'PropertyMass',\n",
       " 'RandomTable',\n",
       " 'RigidElement',\n",
       " 'SET1',\n",
       " 'SPC',\n",
       " 'Set',\n",
       " 'Spline',\n",
       " 'StructuralMaterial',\n",
       " 'Table',\n",
       " 'TableD',\n",
       " 'TableM',\n",
       " 'ThermalMaterial',\n",
       " 'clear_attributes',\n",
       " 'create_card_object',\n",
       " 'create_subcases',\n",
       " 'cross_reference',\n",
       " 'deprecated',\n",
       " 'disable_cards',\n",
       " 'export_hdf5_file',\n",
       " 'export_hdf5_filename',\n",
       " 'geom_check',\n",
       " 'get_MPCx_node_ids',\n",
       " 'get_MPCx_node_ids_c1',\n",
       " 'get_SPCx_node_ids',\n",
       " 'get_SPCx_node_ids_c1',\n",
       " 'get_area_breakdown',\n",
       " 'get_bdf_cards',\n",
       " 'get_bdf_cards_dict',\n",
       " 'get_bdf_stats',\n",
       " 'get_card_ids_by_card_types',\n",
       " 'get_cards_by_card_types',\n",
       " 'get_custom_types',\n",
       " 'get_dependent_nid_to_components',\n",
       " 'get_displacement_index',\n",
       " 'get_displacement_index_xyz_cp_cd',\n",
       " 'get_dload_entries',\n",
       " 'get_element_faces',\n",
       " 'get_element_ids_dict_with_pids',\n",
       " 'get_element_ids_list_with_pids',\n",
       " 'get_elements_nodes_by_property_type',\n",
       " 'get_elements_properties_nodes_by_element_type',\n",
       " 'get_encoding',\n",
       " 'get_h5attrs',\n",
       " 'get_length_breakdown',\n",
       " 'get_mass_breakdown',\n",
       " 'get_material_id_to_property_ids_map',\n",
       " 'get_material_ids',\n",
       " 'get_mklist',\n",
       " 'get_mpcs',\n",
       " 'get_nid_map',\n",
       " 'get_node_id_to_element_ids_map',\n",
       " 'get_node_id_to_elements_map',\n",
       " 'get_node_ids_with_elements',\n",
       " 'get_param',\n",
       " 'get_pid_to_node_ids_and_elements_array',\n",
       " 'get_point_grids',\n",
       " 'get_property_id_to_element_ids_map',\n",
       " 'get_reduced_dloads',\n",
       " 'get_reduced_loads',\n",
       " 'get_reduced_mpcs',\n",
       " 'get_reduced_nsms',\n",
       " 'get_reduced_spcs',\n",
       " 'get_rigid_elements_with_node_ids',\n",
       " 'get_rslot_map',\n",
       " 'get_spcs',\n",
       " 'get_structural_material_ids',\n",
       " 'get_thermal_material_ids',\n",
       " 'get_volume_breakdown',\n",
       " 'get_xyz_in_coord',\n",
       " 'get_xyz_in_coord_array',\n",
       " 'get_xyz_in_coord_no_xref',\n",
       " 'include_zip',\n",
       " 'increase_card_count',\n",
       " 'is_reject',\n",
       " 'load',\n",
       " 'load_hdf5_file',\n",
       " 'load_hdf5_filename',\n",
       " 'mass_properties',\n",
       " 'mass_properties_no_xref',\n",
       " 'mass_properties_nsm',\n",
       " 'pop_parse_errors',\n",
       " 'pop_xref_errors',\n",
       " 'read_bdf',\n",
       " 'reject_card_lines',\n",
       " 'replace_cards',\n",
       " 'reset_errors',\n",
       " 'reset_rslot_map',\n",
       " 'safe_acsid',\n",
       " 'safe_aefact',\n",
       " 'safe_aelist',\n",
       " 'safe_caero',\n",
       " 'safe_coord',\n",
       " 'safe_cross_reference',\n",
       " 'safe_element',\n",
       " 'safe_elements',\n",
       " 'safe_empty_nodes',\n",
       " 'safe_get_elements',\n",
       " 'safe_get_nodes',\n",
       " 'safe_get_points',\n",
       " 'safe_material',\n",
       " 'safe_paero',\n",
       " 'safe_property',\n",
       " 'safe_property_mass',\n",
       " 'safe_tabled',\n",
       " 'safe_tableh',\n",
       " 'save',\n",
       " 'saves',\n",
       " 'set_as_msc',\n",
       " 'set_as_mystran',\n",
       " 'set_as_nx',\n",
       " 'set_as_zona',\n",
       " 'set_cards',\n",
       " 'set_dynamic_syntax',\n",
       " 'set_error_storage',\n",
       " 'set_param',\n",
       " 'sum_forces_moments',\n",
       " 'sum_forces_moments_elements',\n",
       " 'superelement_nodes',\n",
       " 'tempbc',\n",
       " 'transform_xyzcp_to_xyz_cid',\n",
       " 'uncross_reference',\n",
       " 'update_card',\n",
       " 'update_model_by_desvars',\n",
       " 'update_solution',\n",
       " 'validate',\n",
       " 'write_bdf',\n",
       " 'write_bdfs',\n",
       " 'write_skin_solid_faces']"
      ]
     },
     "execution_count": 10,
     "metadata": {},
     "output_type": "execute_result"
    }
   ],
   "source": [
    "# lets see which methods are available for bdf object (without the add_* methods)\n",
    "list_of_bdf_methods = bdf.object_methods()\n",
    "list_of_bdf_methods_without_add_xxx = [ x for x in list_of_bdf_methods if not 'add' in x ]\n",
    "list_of_bdf_methods_without_add_xxx"
   ]
  },
  {
   "cell_type": "markdown",
   "metadata": {},
   "source": [
    "### Loads and Boundary Conditions"
   ]
  },
  {
   "cell_type": "code",
   "execution_count": 11,
   "metadata": {},
   "outputs": [
    {
     "data": {
      "text/plain": [
       "{8001: [SPC         8001 3865042  123456      0.,\n",
       "  SPC         8001 3865090  123456      0.],\n",
       " 3000041: [$Anonymous SPC SET\n",
       "  SPC1     3000041       1  700004],\n",
       " 3000042: [$Anonymous SPC SET\n",
       "  SPC1     3000042       2  700004],\n",
       " 3000043: [$Anonymous SPC SET\n",
       "  SPC1     3000043       3  700004],\n",
       " 3000044: [$Anonymous SPC SET\n",
       "  SPC1     3000044       4  700004],\n",
       " 3000045: [$Anonymous SPC SET\n",
       "  SPC1     3000045       5  700004],\n",
       " 3000046: [$Anonymous SPC SET\n",
       "  SPC1     3000046       6  700004],\n",
       " 8000: [SPC         8000    1000  123456      0.,\n",
       "  SPC         8000    1001  123456      0.]}"
      ]
     },
     "execution_count": 11,
     "metadata": {},
     "output_type": "execute_result"
    }
   ],
   "source": [
    "#get spc dict of bdf object\n",
    "bdf.spcs"
   ]
  },
  {
   "cell_type": "code",
   "execution_count": 12,
   "metadata": {},
   "outputs": [
    {
     "name": "stdout",
     "output_type": "stream",
     "text": [
      "['123456']\n"
     ]
    },
    {
     "data": {
      "text/plain": [
       "SPC         8001 3865042  123456      0."
      ]
     },
     "execution_count": 12,
     "metadata": {},
     "output_type": "execute_result"
    }
   ],
   "source": [
    "# You can get the SPC information by using the dict, which includes the SPC objects as list\n",
    "print(bdf.spcs[8001][0].components)\n",
    "bdf.spcs[8001][0]"
   ]
  },
  {
   "cell_type": "code",
   "execution_count": 13,
   "metadata": {},
   "outputs": [
    {
     "data": {
      "text/plain": [
       "'$Anonymous SPC SET\\nSPCADD         1 3800133 3810133 3820011 3820012 3820013 3830011 3830013\\n'"
      ]
     },
     "execution_count": 13,
     "metadata": {},
     "output_type": "execute_result"
    }
   ],
   "source": [
    "# You can also use the SPC function of the bdf object:\n",
    "bdf.SPC(1)[0].print_card()"
   ]
  },
  {
   "cell_type": "code",
   "execution_count": 14,
   "metadata": {},
   "outputs": [
    {
     "data": {
      "text/plain": [
       "[SPC         8000    1000  123456      0.,\n",
       " SPC         8000    1001  123456      0.]"
      ]
     },
     "execution_count": 14,
     "metadata": {},
     "output_type": "execute_result"
    }
   ],
   "source": [
    "# Since the SPC id is not unique, you get a list of all SPCs with the SPC Id\n",
    "bdf.SPC(8000)"
   ]
  },
  {
   "cell_type": "code",
   "execution_count": 15,
   "metadata": {},
   "outputs": [
    {
     "data": {
      "text/plain": [
       "[1000]"
      ]
     },
     "execution_count": 15,
     "metadata": {},
     "output_type": "execute_result"
    }
   ],
   "source": [
    "spc = bdf.SPC(8000)\n",
    "spc[0].nodes"
   ]
  },
  {
   "cell_type": "code",
   "execution_count": 16,
   "metadata": {},
   "outputs": [
    {
     "data": {
      "text/plain": [
       "{'conid': 8000,\n",
       " 'nodes': [1000],\n",
       " 'components': ['123456'],\n",
       " 'enforced': [0.0],\n",
       " 'nodes_ref': None}"
      ]
     },
     "execution_count": 16,
     "metadata": {},
     "output_type": "execute_result"
    }
   ],
   "source": [
    "spc[0].__dict__"
   ]
  },
  {
   "cell_type": "code",
   "execution_count": 17,
   "metadata": {},
   "outputs": [
    {
     "data": {
      "text/plain": [
       "[1000, 1001]"
      ]
     },
     "execution_count": 17,
     "metadata": {},
     "output_type": "execute_result"
    }
   ],
   "source": [
    "# How get all SPC nodes of the SPC Id?\n",
    "bdf.get_SPCx_node_ids(8000)"
   ]
  },
  {
   "cell_type": "code",
   "execution_count": 18,
   "metadata": {},
   "outputs": [
    {
     "data": {
      "text/plain": [
       "[GRID        1000         446.994-752.772 64.4771,\n",
       " GRID        1001  700004      0.      0.      0.  700004]"
      ]
     },
     "execution_count": 18,
     "metadata": {},
     "output_type": "execute_result"
    }
   ],
   "source": [
    "# get all grid objects from specific SPC\n",
    "spc_grids_ids_8000 = bdf.get_SPCx_node_ids(8000)\n",
    "spc_grids_8000 = []\n",
    "for gid in spc_grids_ids_8000:\n",
    "    spc_grids_8000.append(bdf.Node(gid))\n",
    "spc_grids_8000"
   ]
  },
  {
   "cell_type": "code",
   "execution_count": 19,
   "metadata": {},
   "outputs": [
    {
     "name": "stdout",
     "output_type": "stream",
     "text": [
      "SPC 8000 constrains the model at following coordinates:\n",
      "GRID 1000: X 446.994 Y -752.772 Z 64.477\n",
      "GRID 1001: X 0.000 Y 0.000 Z 0.000\n"
     ]
    }
   ],
   "source": [
    "# get from the collected grids a list of coordinates\n",
    "print(\"SPC 8000 constrains the model at following coordinates:\")\n",
    "for g in spc_grids_8000:\n",
    "    x,y,z = g.xyz\n",
    "    gid = g.nid\n",
    "    print(\"GRID %s: X %.3f Y %.3f Z %.3f\" % ( gid, x, y, z))\n",
    "    "
   ]
  },
  {
   "cell_type": "code",
   "execution_count": null,
   "metadata": {},
   "outputs": [],
   "source": []
  },
  {
   "cell_type": "code",
   "execution_count": 20,
   "metadata": {},
   "outputs": [
    {
     "name": "stdout",
     "output_type": "stream",
     "text": [
      "SPC 8000 constrains the model at following global coordinates:\n",
      "GRID 1000: X 446.994 Y -752.772 Z 64.477 (CID 0)\n",
      "GRID 1001: X 544.012 Y -805.016 Z 14.733 (CID 700004)\n"
     ]
    }
   ],
   "source": [
    "# What if the coordinates are in a local coordinate system?\n",
    "# How do I change them to global coordinates?\n",
    "print(\"SPC 8000 constrains the model at following global coordinates:\")\n",
    "for g in spc_grids_8000:\n",
    "    x, y, z = g.get_position_no_xref(bdf) # global position if you have no bdf xref\n",
    "    gid = g.nid\n",
    "    cp = g.cp\n",
    "    print(\"GRID %s: X %.3f Y %.3f Z %.3f (CID %s)\" % ( gid, x, y, z, cp))"
   ]
  },
  {
   "cell_type": "code",
   "execution_count": 21,
   "metadata": {},
   "outputs": [
    {
     "data": {
      "text/plain": [
       "{1: [$--1---][--2---][--3---][--4---][--5---][--6---][--7---][--8---][--9---]\n",
       "  LOAD           1      1.   -500. 2600013   -500. 2610013],\n",
       " 2: [$--1---][--2---][--3---][--4---][--5---][--6---][--7---][--8---][--9---]\n",
       "  LOAD           2      1.    500. 2450032    500. 2450062],\n",
       " 3: [$--1---][--2---][--3---][--4---][--5---][--6---][--7---][--8---][--9---]\n",
       "  LOAD           3      1.   -500. 2450033   -500. 2450063],\n",
       " 4: [$--1---][--2---][--3---][--4---][--5---][--6---][--7---][--8---][--9---]\n",
       "  LOAD           4      1.    500. 2451012    500. 2451022],\n",
       " 5: [$--1---][--2---][--3---][--4---][--5---][--6---][--7---][--8---][--9---]\n",
       "  LOAD           5      1.   -500. 2451013   -500. 2451023],\n",
       " 6: [$--1---][--2---][--3---][--4---][--5---][--6---][--7---][--8---][--9---]\n",
       "  LOAD           6      1.    500. 2800133   -500. 2810133],\n",
       " 7: [$--1---][--2---][--3---][--4---][--5---][--6---][--7---][--8---][--9---]\n",
       "  LOAD           7      1.    333. 2000012    333. 2000022    333. 2000032],\n",
       " 8: [$--1---][--2---][--3---][--4---][--5---][--6---][--7---][--8---][--9---]\n",
       "  LOAD           8      1.    500. 2000011    500. 2010011],\n",
       " 9: [$--1---][--2---][--3---][--4---][--5---][--6---][--7---][--8---][--9---]\n",
       "  LOAD           9      1.   -500. 2000031   -500. 2010031],\n",
       " 10: [$--1---][--2---][--3---][--4---][--5---][--6---][--7---][--8---][--9---]\n",
       "  LOAD          10      1.    .001 2001010],\n",
       " 11: [$--1---][--2---][--3---][--4---][--5---][--6---][--7---][--8---][--9---]\n",
       "  LOAD          11      1.    .001 2001020],\n",
       " 12: [$--1---][--2---][--3---][--4---][--5---][--6---][--7---][--8---][--9---]\n",
       "  LOAD          12      1.    .001 2001030],\n",
       " 13: [$--1---][--2---][--3---][--4---][--5---][--6---][--7---][--8---][--9---]\n",
       "  LOAD          13      1.    .001 2001040],\n",
       " 14: [$--1---][--2---][--3---][--4---][--5---][--6---][--7---][--8---][--9---]\n",
       "  LOAD          14      1.    .001 2001050],\n",
       " 15: [$--1---][--2---][--3---][--4---][--5---][--6---][--7---][--8---][--9---]\n",
       "  LOAD          15      1.   1000. 2765013],\n",
       " 16: [$--1---][--2---][--3---][--4---][--5---][--6---][--7---][--8---][--9---]\n",
       "  LOAD          16      1.  -1000. 2001013],\n",
       " 17: [$--1---][--2---][--3---][--4---][--5---][--6---][--7---][--8---][--9---]\n",
       "  LOAD          17      1.  -1000. 2001023],\n",
       " 18: [$--1---][--2---][--3---][--4---][--5---][--6---][--7---][--8---][--9---]\n",
       "  LOAD          18      1.  -1000. 2001033],\n",
       " 19: [$--1---][--2---][--3---][--4---][--5---][--6---][--7---][--8---][--9---]\n",
       "  LOAD          19      1.  -1000. 2001043],\n",
       " 20: [$--1---][--2---][--3---][--4---][--5---][--6---][--7---][--8---][--9---]\n",
       "  LOAD          20      1.  -1000. 2001053],\n",
       " 21: [$ ==============================================================================\n",
       "  LOAD          21      1.  -1000. 2001063],\n",
       " 22: [$--1---][--2---][--3---][--4---][--5---][--6---][--7---][--8---][--9---]\n",
       "  LOAD          22      1.   1000. 2766011],\n",
       " 23: [$Anonymous LOAD SET\n",
       "  LOAD          23      1.  -1000. 2766013],\n",
       " 24: [$--1---][--2---][--3---][--4---][--5---][--6---][--7---][--8---][--9---]\n",
       "  LOAD          24      1.   1000. 2400012],\n",
       " 25: [$Anonymous LOAD SET\n",
       "  LOAD          25      1.-100000. 2400014],\n",
       " 26: [$Anonymous LOAD SET\n",
       "  LOAD          26      1. 100000. 2400015],\n",
       " 27: [$Anonymous LOAD SET\n",
       "  LOAD          27      1.-100000. 2400016],\n",
       " 28: [$Anonymous LOAD SET\n",
       "  LOAD          28      1.   1000. 2400042],\n",
       " 29: [$Anonymous LOAD SET\n",
       "  LOAD          29      1. 100000. 2400044],\n",
       " 30: [$Anonymous LOAD SET\n",
       "  LOAD          30      1. 100000. 2400045],\n",
       " 31: [$Anonymous LOAD SET\n",
       "  LOAD          31      1. 100000. 2400046],\n",
       " 32: [$ANSA_COLOR;9006;PBARL_ROD;.631372570991516;.631372570991516;.509803950786591;1.\n",
       "  $;\n",
       "  $ANSA_COLOR;6362100;PSHELL;.670588254928589;.886274516582489;.345098048448563;1.\n",
       "  $;\n",
       "  $ANSA_COLOR;6362500;PSHELL;0.65490198135376;.796078443527222;.972549021244049;1.\n",
       "  $;\n",
       "  $ANSA_COLOR;6453100;PSHELL;0.91372549533844;.149019613862038;.313725501298904;1.\n",
       "  $;\n",
       "  $ANSA_COLOR;9006;MAT1;.764705896377563;.074509806931019;.270588248968124;1.;\n",
       "  $ANSA_COLOR;6362100;MAT1;.537254929542542;.862745106220245;.972549021244049;1.;\n",
       "  $ANSA_COLOR;6362500;MAT1;.729411780834198;.066666670143604;.329411774873734;1.;\n",
       "  $ANSA_COLOR;6453100;MAT1;.752941191196442;.490196079015732;.537254929542542;1.;\n",
       "  $ANSA_COLOR;1;SPCADD;0.;0.;0.;0.;\n",
       "  $ANSA_COLOR;2;SPCADD;0.;0.;0.;0.;\n",
       "  $ANSA_COLOR;3;SPCADD;0.;0.;0.;0.;\n",
       "  $ANSA_COLOR;4;SPCADD;0.;0.;0.;0.;\n",
       "  $ANSA_COLOR;5;SPCADD;0.;0.;0.;0.;\n",
       "  $ANSA_COLOR;6;SPCADD;0.;0.;0.;0.;\n",
       "  $ANSA_COLOR;7;SPCADD;0.;0.;0.;0.;\n",
       "  $ANSA_COLOR;8;SPCADD;0.;0.;0.;0.;\n",
       "  $ANSA_COLOR;9;SPCADD;0.;0.;0.;0.;\n",
       "  $ANSA_COLOR;10;SPCADD;0.;0.;0.;0.;\n",
       "  $ANSA_COLOR;11;SPCADD;0.;0.;0.;0.;\n",
       "  $ANSA_COLOR;12;SPCADD;0.;0.;0.;0.;\n",
       "  $ANSA_COLOR;13;SPCADD;0.;0.;0.;0.;\n",
       "  $ANSA_COLOR;14;SPCADD;0.;0.;0.;0.;\n",
       "  $ANSA_COLOR;15;SPCADD;0.;0.;0.;0.;\n",
       "  $ANSA_COLOR;16;SPCADD;0.;0.;0.;0.;\n",
       "  $ANSA_COLOR;17;SPCADD;0.;0.;0.;0.;\n",
       "  $ANSA_COLOR;18;SPCADD;0.;0.;0.;0.;\n",
       "  $ANSA_COLOR;19;SPCADD;0.;0.;0.;0.;\n",
       "  $ANSA_COLOR;20;SPCADD;0.;0.;0.;0.;\n",
       "  $ANSA_COLOR;21;SPCADD;0.;0.;0.;0.;\n",
       "  $ANSA_COLOR;22;SPCADD;0.;0.;0.;0.;\n",
       "  $ANSA_COLOR;23;SPCADD;0.;0.;0.;0.;\n",
       "  $ANSA_COLOR;3000041;SPCADD;.819607853889465;0.18823529779911;.431372553110123;1.\n",
       "  $;\n",
       "  $ANSA_COLOR;3000042;SPCADD;.607843160629272;.850980401039124;.733333349227905;1.\n",
       "  $;\n",
       "  $ANSA_COLOR;3000043;SPCADD;.521568655967712;.427450984716415;0.61176472902298;1.\n",
       "  $;\n",
       "  $ANSA_COLOR;3000044;SPCADD;.556862771511078;0.91372549533844;.066666670143604;1.\n",
       "  $;\n",
       "  $ANSA_COLOR;3000045;SPCADD;.713725507259369;.309803932905197;.098039217293262;1.\n",
       "  $;\n",
       "  $ANSA_COLOR;3000046;SPCADD;.996078431606293;.615686297416687;.709803938865662;1.\n",
       "  $;\n",
       "  $ANSA_COLOR;1;MPCADD;0.;0.;0.;0.;\n",
       "  $ANSA_COLOR;2;MPCADD;0.;0.;0.;0.;\n",
       "  $ANSA_COLOR;3;MPCADD;0.;0.;0.;0.;\n",
       "  $ANSA_COLOR;4;MPCADD;0.;0.;0.;0.;\n",
       "  $ANSA_COLOR;5;MPCADD;0.;0.;0.;0.;\n",
       "  $ANSA_COLOR;6;MPCADD;0.;0.;0.;0.;\n",
       "  $ANSA_COLOR;7;MPCADD;0.;0.;0.;0.;\n",
       "  $ANSA_COLOR;8;MPCADD;0.;0.;0.;0.;\n",
       "  $ANSA_COLOR;9;MPCADD;0.;0.;0.;0.;\n",
       "  $ANSA_COLOR;10;MPCADD;0.;0.;0.;0.;\n",
       "  $ANSA_COLOR;11;MPCADD;0.;0.;0.;0.;\n",
       "  $ANSA_COLOR;12;MPCADD;0.;0.;0.;0.;\n",
       "  $ANSA_COLOR;13;MPCADD;0.;0.;0.;0.;\n",
       "  $ANSA_COLOR;14;MPCADD;0.;0.;0.;0.;\n",
       "  $ANSA_COLOR;15;MPCADD;0.;0.;0.;0.;\n",
       "  $ANSA_COLOR;16;MPCADD;0.;0.;0.;0.;\n",
       "  $ANSA_COLOR;17;MPCADD;0.;0.;0.;0.;\n",
       "  $ANSA_COLOR;18;MPCADD;0.;0.;0.;0.;\n",
       "  $ANSA_COLOR;19;MPCADD;0.;0.;0.;0.;\n",
       "  $ANSA_COLOR;20;MPCADD;0.;0.;0.;0.;\n",
       "  $ANSA_COLOR;21;MPCADD;0.;0.;0.;0.;\n",
       "  $ANSA_COLOR;22;MPCADD;0.;0.;0.;0.;\n",
       "  $ANSA_COLOR;23;MPCADD;0.;0.;0.;0.;\n",
       "  $ANSA_COLOR;1;LOAD;0.;0.;0.;0.;\n",
       "  $ANSA_COLOR;2;LOAD;0.;0.;0.;0.;\n",
       "  $ANSA_COLOR;3;LOAD;0.;0.;0.;0.;\n",
       "  $ANSA_COLOR;4;LOAD;0.;0.;0.;0.;\n",
       "  $ANSA_COLOR;5;LOAD;0.;0.;0.;0.;\n",
       "  $ANSA_COLOR;6;LOAD;0.;0.;0.;0.;\n",
       "  $ANSA_COLOR;7;LOAD;0.;0.;0.;0.;\n",
       "  $ANSA_COLOR;8;LOAD;0.;0.;0.;0.;\n",
       "  $ANSA_COLOR;9;LOAD;0.;0.;0.;0.;\n",
       "  $ANSA_COLOR;10;LOAD;0.;0.;0.;0.;\n",
       "  $ANSA_COLOR;11;LOAD;0.;0.;0.;0.;\n",
       "  $ANSA_COLOR;12;LOAD;0.;0.;0.;0.;\n",
       "  $ANSA_COLOR;13;LOAD;0.;0.;0.;0.;\n",
       "  $ANSA_COLOR;14;LOAD;0.;0.;0.;0.;\n",
       "  $ANSA_COLOR;15;LOAD;0.;0.;0.;0.;\n",
       "  $ANSA_COLOR;16;LOAD;0.;0.;0.;0.;\n",
       "  $ANSA_COLOR;17;LOAD;0.;0.;0.;0.;\n",
       "  $ANSA_COLOR;18;LOAD;0.;0.;0.;0.;\n",
       "  $ANSA_COLOR;19;LOAD;0.;0.;0.;0.;\n",
       "  $ANSA_COLOR;20;LOAD;0.;0.;0.;0.;\n",
       "  $ANSA_COLOR;21;LOAD;0.;0.;0.;0.;\n",
       "  $ANSA_COLOR;22;LOAD;0.;0.;0.;0.;\n",
       "  $ANSA_COLOR;23;LOAD;0.;0.;0.;0.;\n",
       "  $ANSA_COLOR;24;LOAD;0.;0.;0.;0.;\n",
       "  $ANSA_COLOR;25;LOAD;0.;0.;0.;0.;\n",
       "  $ANSA_COLOR;26;LOAD;0.;0.;0.;0.;\n",
       "  $ANSA_COLOR;27;LOAD;0.;0.;0.;0.;\n",
       "  $ANSA_COLOR;28;LOAD;0.;0.;0.;0.;\n",
       "  $ANSA_COLOR;29;LOAD;0.;0.;0.;0.;\n",
       "  $ANSA_COLOR;30;LOAD;0.;0.;0.;0.;\n",
       "  $ANSA_COLOR;31;LOAD;0.;0.;0.;0.;\n",
       "  $ANSA_COLOR;32;LOAD;0.;0.;0.;0.;\n",
       "  $ANSA_COLOR;2000011;LOAD_SET;.639215707778931;.976470589637756;.921568632125854;\n",
       "  $1.;\n",
       "  $ANSA_COLOR;2000012;LOAD_SET;.788235306739807;0.43529412150383;.658823549747467;\n",
       "  $1.;\n",
       "  $ANSA_COLOR;2000022;LOAD_SET;.945098042488098;.729411780834198;.592156887054443;\n",
       "  $1.;\n",
       "  $ANSA_COLOR;2000031;LOAD_SET;.686274528503418;.027450980618596;0.26274511218071;\n",
       "  $1.;\n",
       "  $ANSA_COLOR;2000032;LOAD_SET;.701960802078247;.219607844948769;.729411780834198;\n",
       "  $1.;\n",
       "  $ANSA_COLOR;2001010;LOAD_SET;.780392169952393;0.65490198135376;.003921568859369;\n",
       "  $1.;\n",
       "  $ANSA_COLOR;2001013;LOAD_SET;.964705884456635;.490196079015732;.521568655967712;\n",
       "  $1.;\n",
       "  $ANSA_COLOR;2001020;LOAD_SET;.627451002597809;.517647087574005;.137254908680916;\n",
       "  $1.;\n",
       "  $ANSA_COLOR;2001023;LOAD_SET;0.65490198135376;.850980401039124;.521568655967712;\n",
       "  $1.;\n",
       "  $ANSA_COLOR;2001030;LOAD_SET;.964705884456635;.019607843831182;.580392181873322;\n",
       "  $1.;\n",
       "  $ANSA_COLOR;2001033;LOAD_SET;.949019610881805;.407843142747879;.725490212440491;\n",
       "  $1.;\n",
       "  $ANSA_COLOR;2001040;LOAD_SET;.792156875133514;.168627455830574;.337254911661148;\n",
       "  $1.;\n",
       "  $ANSA_COLOR;2001043;LOAD_SET;.839215695858002;.168627455830574;.129411771893501;\n",
       "  $1.;\n",
       "  $ANSA_COLOR;2001050;LOAD_SET;.603921592235565;.960784316062927;.403921574354172;\n",
       "  $1.;\n",
       "  $ANSA_COLOR;2001053;LOAD_SET;0.82745099067688;.125490203499794;.733333349227905;\n",
       "  $1.;\n",
       "  $ANSA_COLOR;2001063;LOAD_SET;.917647063732147;.282352954149246;.533333361148834;\n",
       "  $1.;\n",
       "  $ANSA_COLOR;2010011;LOAD_SET;.607843160629272;.850980401039124;.733333349227905;\n",
       "  $1.;\n",
       "  $ANSA_COLOR;2010031;LOAD_SET;.756862759590149;0.10196078568697;.270588248968124;\n",
       "  $1.;\n",
       "  $ANSA_COLOR;2400012;LOAD_SET;.772549033164978;.137254908680916;.094117648899555;\n",
       "  $1.;\n",
       "  $ANSA_COLOR;2400014;LOAD_SET;.933333337306976;.792156875133514;.294117659330368;\n",
       "  $1.;\n",
       "  $ANSA_COLOR;2400015;LOAD_SET;.749019622802734;.584313750267029;.360784322023392;\n",
       "  $1.;\n",
       "  $ANSA_COLOR;2400016;LOAD_SET;.552941203117371;.023529412224889;0.74117648601532;\n",
       "  $1.;\n",
       "  $ANSA_COLOR;2400042;LOAD_SET;.627451002597809;.831372559070587;.427450984716415;\n",
       "  $1.;\n",
       "  $ANSA_COLOR;2400044;LOAD_SET;.658823549747467;.215686276555061;.364705890417099;\n",
       "  $1.;\n",
       "  $ANSA_COLOR;2400045;LOAD_SET;.905882358551025;.874509811401367;.298039227724075;\n",
       "  $1.;\n",
       "  $ANSA_COLOR;2400046;LOAD_SET;.643137276172638;.180392161011696;.541176497936249;\n",
       "  $1.;\n",
       "  $ANSA_COLOR;2400063;LOAD_SET;.788235306739807;.960784316062927;0.14509804546833;\n",
       "  $1.;\n",
       "  $ANSA_COLOR;2450032;LOAD_SET;.643137276172638;.815686285495758;.701960802078247;\n",
       "  $1.;\n",
       "  $ANSA_COLOR;2450033;LOAD_SET;.780392169952393;.917647063732147;.745098054409027;\n",
       "  $1.;\n",
       "  $ANSA_COLOR;2450062;LOAD_SET;.800000011920929;.105882354080677;.639215707778931;\n",
       "  $1.;\n",
       "  $ANSA_COLOR;2450063;LOAD_SET;0.87058824300766;.078431375324726;.549019634723663;\n",
       "  $1.;\n",
       "  $ANSA_COLOR;2451012;LOAD_SET;.556862771511078;.596078455448151;.772549033164978;\n",
       "  $1.;\n",
       "  $ANSA_COLOR;2451013;LOAD_SET;.560784339904785;0.43529412150383;.552941203117371;\n",
       "  $1.;\n",
       "  $ANSA_COLOR;2451022;LOAD_SET;0.91372549533844;.290196090936661;.109803922474384;\n",
       "  $1.;\n",
       "  $ANSA_COLOR;2451023;LOAD_SET;.850980401039124;.992156863212585;.756862759590149;\n",
       "  $1.;\n",
       "  $ANSA_COLOR;2600013;LOAD_SET;0.74117648601532;.752941191196442;.156862750649452;\n",
       "  $1.;\n",
       "  $ANSA_COLOR;2610013;LOAD_SET;.733333349227905;.709803938865662;.760784327983856;\n",
       "  $1.;\n",
       "  $ANSA_COLOR;2765013;LOAD_SET;.823529422283173;0.87058824300766;.564705908298492;\n",
       "  $1.;\n",
       "  $ANSA_COLOR;2766011;LOAD_SET;.658823549747467;.529411792755127;0.65490198135376;\n",
       "  $1.;\n",
       "  $ANSA_COLOR;2766013;LOAD_SET;.513725519180298;.227450981736183;0.5686274766922;1\n",
       "  $.;\n",
       "  $ANSA_COLOR;2800133;LOAD_SET;.803921580314636;.788235306739807;.768627464771271;\n",
       "  $1.;\n",
       "  $ANSA_COLOR;2810133;LOAD_SET;.694117665290833;.545098066329956;.172549024224281;\n",
       "  $1.;\n",
       "  $ANSA_FROZEN_ID;9006;MAT1;YES;\n",
       "  $ANSA_COMMENT;6362100;PSHELL;ATTRIBUTE:ShowPublishedAndLineType (1 field(s))~\n",
       "  $Value:1536~\n",
       "  $ATTRIBUTE:Name (1 field(s))~\n",
       "  $Value:63621TY2_A000H1~\n",
       "  $ATTRIBUTE:LayerId (1 field(s))~\n",
       "  $Value:1~\n",
       "  $ATTRIBUTE:Original Name (1 field(s))~\n",
       "  $Value:63621TY2_A000H1~\n",
       "  $;\n",
       "  $ANSA_COMMENT;6362500;PSHELL;ATTRIBUTE:ShowPublishedAndLineType (1 field(s))~\n",
       "  $Value:1536~\n",
       "  $ATTRIBUTE:Name (1 field(s))~\n",
       "  $Value:63625TY2_A000H1~\n",
       "  $ATTRIBUTE:LayerId (1 field(s))~\n",
       "  $Value:1~\n",
       "  $ATTRIBUTE:Original Name (1 field(s))~\n",
       "  $Value:63625TY2_A000H1~\n",
       "  $;\n",
       "  $ANSA_COMMENT;6453100;PSHELL;ATTRIBUTE:ShowPublishedAndLineType (1 field(s))~\n",
       "  $Value:1536~\n",
       "  $ATTRIBUTE:Name (1 field(s))~\n",
       "  $Value:64531TY2AA00250~\n",
       "  $ATTRIBUTE:ColorId (1 field(s))~\n",
       "  $Value:23~\n",
       "  $ATTRIBUTE:LayerId (1 field(s))~\n",
       "  $Value:1~\n",
       "  $ATTRIBUTE:Original Name (1 field(s))~\n",
       "  $Value:64531TY2AA00250~\n",
       "  $;\n",
       "  $ANSA_USER_ATTRIBUTES;PSHELL;User/cad_material;TEXT;RW;YES;;;\n",
       "  $ANSA_USER_ATTRIBUTES;PSHELL;User/cad_thickness;TEXT;RW;YES;;;\n",
       "  $ANSA_PART;GROUP;ID;6066;NAME;01_BIW;BELONGS_HERE;YES;PID_OFFSET;0;COLOR;232;62;\n",
       "  $35;0;IS_COLOR_ACTIVE;1;ATTRIBUTES;2;DM/File Type;ANSA;DM/Status;WIP;CONTAINS;AN\n",
       "  $SAPART;2810,5428,5680,5741,6124,6274;\n",
       "  $ANSA_PART;PART;ID;2810;NAME;RIGIDs;BELONGS_HERE;YES;STUDY_VERSION;0;PID_OFFSET;\n",
       "  $0;COLOR;152;163;214;0;IS_COLOR_ACTIVE;1;ATTRIBUTES;2;DM/File Type;ANSA;DM/Statu\n",
       "  $s;WIP;CONTAINS;RBE2;70700004;\n",
       "  $ANSA_PART;PART;ID;5428;NAME;RIGIDs@51;BELONGS_HERE;YES;STUDY_VERSION;0;PID_OFFS\n",
       "  $ET;0;COLOR;138;90;193;0;IS_COLOR_ACTIVE;1;ATTRIBUTES;2;DM/File Type;ANSA;DM/Sta\n",
       "  $tus;WIP;CONTAINS;RBE2;3107708;\n",
       "  $ANSA_PART;PART;ID;5680;MID;6362500;NAME;63625TY2_A000H1;BELONGS_HERE;YES;STUDY_\n",
       "  $VERSION;0;PID_OFFSET;0;COLOR;188;220;212;0;IS_COLOR_ACTIVE;1;ATTRIBUTES;2;DM/Fi\n",
       "  $le Type;ANSA;DM/Status;WIP;CONTAINS;PSHELL;6362500;\n",
       "  $ANSA_PART;PART;ID;5741;MID;6453100;NAME;64531TY2_A000_50;BELONGS_HERE;YES;STUDY\n",
       "  $_VERSION;0;PID_OFFSET;0;COLOR;194;51;202;0;IS_COLOR_ACTIVE;1;ATTRIBUTES;2;DM/Fi\n",
       "  $le Type;ANSA;DM/Status;WIP;CONTAINS;PSHELL;6453100;\n",
       "  $ANSA_PART;PART;ID;6124;NAME;BARs@47;BELONGS_HERE;YES;STUDY_VERSION;0;PID_OFFSET\n",
       "  $;0;COLOR;253;77;107;0;IS_COLOR_ACTIVE;1;ATTRIBUTES;2;DM/File Type;ANSA;DM/Statu\n",
       "  $s;WIP;CONTAINS;CBAR;3095283;\n",
       "  $ANSA_PART;PART;ID;6274;MID;6362100;NAME;63621TY2_A000H1;BELONGS_HERE;YES;STUDY_\n",
       "  $VERSION;0;PID_OFFSET;0;COLOR;170;147;160;0;IS_COLOR_ACTIVE;1;ATTRIBUTES;2;DM/Fi\n",
       "  $le Type;ANSA;DM/Status;WIP;CONTAINS;PSHELL;6362100;\n",
       "  $$$$$$$$$$$$$$$$$$$$$$$$$$$$$$$$$$$$$$$$$$$$$$$$$$$$$$$$$$$$$$$$$$$$$$$$$$$$$$$$\n",
       "  $$$$$$$$$$$$$$$$$$$$$$$$$$$$$$$$$$$$$$$$$$$$$$$$$$$$$$$$$$$$$$$$$$$$$$$$$$$$$$$$\n",
       "  $Anonymous LOAD SET\n",
       "  LOAD          32      1.  -1000. 2400063]}"
      ]
     },
     "execution_count": 21,
     "metadata": {},
     "output_type": "execute_result"
    }
   ],
   "source": [
    "bdf.load_combinations"
   ]
  },
  {
   "cell_type": "code",
   "execution_count": 22,
   "metadata": {},
   "outputs": [
    {
     "data": {
      "text/plain": [
       "[$--1---][--2---][--3---][--4---][--5---][--6---][--7---][--8---][--9---]\n",
       " LOAD           1      1.   -500. 2600013   -500. 2610013]"
      ]
     },
     "execution_count": 22,
     "metadata": {},
     "output_type": "execute_result"
    }
   ],
   "source": [
    "bdf.Load(1)"
   ]
  },
  {
   "cell_type": "markdown",
   "metadata": {},
   "source": [
    "### RBE2\n",
    "Get all RBE2 of the model in a dictionary dict['RBE2']"
   ]
  },
  {
   "cell_type": "code",
   "execution_count": 23,
   "metadata": {
    "scrolled": true
   },
   "outputs": [
    {
     "data": {
      "text/plain": [
       "{'RBE2': [3107708, 70700004, 93107708]}"
      ]
     },
     "execution_count": 23,
     "metadata": {},
     "output_type": "execute_result"
    }
   ],
   "source": [
    "rbe_dict = bdf.get_card_ids_by_card_types(\n",
    "    card_types=['RBE2'], combine=False)\n",
    "rbe_dict"
   ]
  },
  {
   "cell_type": "code",
   "execution_count": 24,
   "metadata": {},
   "outputs": [
    {
     "name": "stdout",
     "output_type": "stream",
     "text": [
      "Independent Node RBE  3107708  grids:  [4352857]\n",
      "Dependent Nodes RBE  3107708 grids:  [4352838, 4352839, 4352840, 4352841, 4352842, 4352843, 4352844, 4352845, 4352846, 4352847, 4352848, 4352849]\n"
     ]
    }
   ],
   "source": [
    "# get rbe object with rbe id\n",
    "rbeid = rbe_dict['RBE2'][0]\n",
    "rbe = bdf.RigidElement(rbeid)\n",
    "\n",
    "# get rbe2 independent grids\n",
    "print(\"Independent Node RBE \",rbeid,\" grids: \", rbe.independent_nodes)\n",
    "\n",
    "# get rbe2 dependent grid\n",
    "print(\"Dependent Nodes RBE \",rbeid,\"grids: \", rbe.dependent_nodes)\n",
    "\n",
    "# get rbe2 dependent grid information\n",
    "independent_grid = bdf.Node(rbe.independent_nodes[0])\n",
    "#print(\"Independent Node x y z coordinates: \", independent_grid.xyz)"
   ]
  },
  {
   "cell_type": "markdown",
   "metadata": {},
   "source": []
  },
  {
   "cell_type": "code",
   "execution_count": 25,
   "metadata": {},
   "outputs": [
    {
     "data": {
      "text/plain": [
       "[CQUAD4   2374750 6362100 4352848 4352847 4352843 4352838,\n",
       " CQUAD4   2374756 6362100 4352838 4352843 4352845 4352841,\n",
       " CQUAD4   2374755 6362100 4352839 4352846 4352847 4352848,\n",
       " CQUAD4   2374757 6362100 4352849 4352842 4352846 4352839]"
      ]
     },
     "execution_count": 25,
     "metadata": {},
     "output_type": "execute_result"
    }
   ],
   "source": [
    "# How do I get all Elements connected to RBE2? (They have singularities and should not be considered in stress evaluation!)\n",
    "# RBE2    93107708 4352857  123456 4352838 4352839\n",
    "ele_singular = []\n",
    "node_id_to_elements_map = bdf.get_node_id_to_elements_map() # info: no 0D and 1D elements!\n",
    "for n in bdf.RigidElement(93107708).dependent_nodes:\n",
    "    ele_singular.extend(node_id_to_elements_map[n])\n",
    "    \n",
    "ele_singular"
   ]
  },
  {
   "cell_type": "markdown",
   "metadata": {},
   "source": [
    "## Bigger example: How can I generate a element set of all elements connected to a RBE2 or SPC?"
   ]
  },
  {
   "cell_type": "code",
   "execution_count": 26,
   "metadata": {},
   "outputs": [
    {
     "data": {
      "text/plain": [
       "{8001: [SPC         8001 3865042  123456      0.,\n",
       "  SPC         8001 3865090  123456      0.],\n",
       " 3000041: [$Anonymous SPC SET\n",
       "  SPC1     3000041       1  700004],\n",
       " 3000042: [$Anonymous SPC SET\n",
       "  SPC1     3000042       2  700004],\n",
       " 3000043: [$Anonymous SPC SET\n",
       "  SPC1     3000043       3  700004],\n",
       " 3000044: [$Anonymous SPC SET\n",
       "  SPC1     3000044       4  700004],\n",
       " 3000045: [$Anonymous SPC SET\n",
       "  SPC1     3000045       5  700004],\n",
       " 3000046: [$Anonymous SPC SET\n",
       "  SPC1     3000046       6  700004],\n",
       " 8000: [SPC         8000    1000  123456      0.,\n",
       "  SPC         8000    1001  123456      0.]}"
      ]
     },
     "execution_count": 26,
     "metadata": {},
     "output_type": "execute_result"
    }
   ],
   "source": [
    "# How can I generate a element set of all elements connected to RBE2 or SPC?\n",
    "rbe_dict = bdf.get_card_ids_by_card_types(card_types=['RBE2'], combine=False)\n",
    "spc_dict = bdf.spcs\n",
    "spc_dict"
   ]
  },
  {
   "cell_type": "code",
   "execution_count": 27,
   "metadata": {},
   "outputs": [
    {
     "data": {
      "text/plain": [
       "[3865042, 3865090, 700004, 700004, 700004, 700004, 700004, 700004, 1000, 1001]"
      ]
     },
     "execution_count": 27,
     "metadata": {},
     "output_type": "execute_result"
    }
   ],
   "source": [
    "spc_nodes = []\n",
    "for x in spc_dict:\n",
    "    spc_nodes.extend(bdf.get_SPCx_node_ids(x))\n",
    "spc_nodes"
   ]
  },
  {
   "cell_type": "code",
   "execution_count": 28,
   "metadata": {
    "scrolled": false
   },
   "outputs": [
    {
     "name": "stdout",
     "output_type": "stream",
     "text": [
      "[4352838, 4352839, 4352840, 4352841, 4352842, 4352843, 4352844, 4352845, 4352846, 4352847, 4352848, 4352849, 3865097, 3865237, 3865248, 3865260, 3865412, 3865414, 3865415, 3865417, 3865418, 3865421, 3877497, 3877504, 3877512, 3877915, 3877928, 3877930, 3877941, 3877943, 3877945, 3877955, 3877957, 3877968, 3881976, 3881998, 3882002, 3882017, 3882032, 3882038, 3882044, 3882056, 3882057, 3882077, 3891934, 3891941, 3891944, 3891957, 3891964, 3891982, 4131156, 4131165, 4131462, 4120679, 4120704, 4120747, 4120901, 4120904, 4128906, 4130382, 4128944, 4128940, 4126803, 4128959, 4124334, 4131520, 3874385, 3874985, 3883262, 3874852, 3874880, 3875162, 3874992, 3874481, 3881954, 3881982, 3882062, 4352838, 4352839]\n"
     ]
    }
   ],
   "source": [
    "rbe_nodes = []\n",
    "for x in rbe_dict['RBE2']:\n",
    "    rbe_nodes.extend(bdf.RigidElement(x).dependent_nodes)\n",
    "print(rbe_nodes)"
   ]
  },
  {
   "cell_type": "code",
   "execution_count": 29,
   "metadata": {},
   "outputs": [
    {
     "data": {
      "text/plain": [
       "[CQUAD4   2370448 6362100 3865090 3865097 3865094 3865093,\n",
       " CQUAD4   2370495 6362100 3865410 3865414 3865090 3865416,\n",
       " CQUAD4   2370496 6362100 3865257 3865249 3865090 3865414,\n",
       " CQUAD4   2370497 6362100 3865119 3865416 3865090 3865093,\n",
       " CTRIA3   2374542 6362100 3865097 3865090 3865249,\n",
       " CQUAD4   2370448 6362100 3865090 3865097 3865094 3865093,\n",
       " CTRIA3   2370468 6362100 3865097 3865249 3865254,\n",
       " CTRIA3   2374542 6362100 3865097 3865090 3865249,\n",
       " CQUAD4   2374549 6362100 3865254 3865262 3891956 3865097,\n",
       " CTRIA3   2374551 6362100 3891956 3865094 3865097,\n",
       " CQUAD4   2372178 6362100 3881997 3881998 3881987 3881986,\n",
       " CQUAD4   2372185 6362100 3881997 3882006 3882005 3881998,\n",
       " CQUAD4   2374667 6362100 3882005 3881999 3881983 3881998,\n",
       " CQUAD4   2374669 6362100 3881998 3881983 3881974 3881987,\n",
       " CQUAD4   2372182 6362100 3881989 3881992 3882003 3882002,\n",
       " CQUAD4   2372189 6362100 3882001 3881989 3882002 3882011,\n",
       " CQUAD4   2372190 6362100 3882012 3882002 3882003 3882013,\n",
       " CQUAD4   2372194 6362100 3882016 3882011 3882002 3882012,\n",
       " CQUAD4   2371147 6362100 3865456 3877916 3877915 3865455,\n",
       " CQUAD4   2371150 6362100 3877915 3877921 3865459 3865455,\n",
       " CQUAD4   2371151 6362100 3877916 3877923 3877922 3877915,\n",
       " CQUAD4   2371156 6362100 3877921 3877915 3877922 3877929,\n",
       " CQUAD4   2372195 6362100 3882011 3882017 3882008 3882001,\n",
       " CQUAD4   2372200 6362100 3882023 3882017 3882011 3882016,\n",
       " CQUAD4   2372202 6362100 3882008 3882017 3882026 3882020,\n",
       " CQUAD4   2372211 6362100 3882026 3882017 3882023 3882042,\n",
       " CTRIA3   2382104 6362500 3874315 3874852 3874831,\n",
       " CQUAD4   2382117 6362500 3874311 3874879 3874852 3874315,\n",
       " CQUAD4   2382354 6362500 3874852 3874879 3883258 3883256,\n",
       " CQUAD4   2382370 6362500 3883256 3873646 3874831 3874852,\n",
       " CQUAD4   2371155 6362100 3877921 3877928 3865462 3865459,\n",
       " CQUAD4   2371161 6362100 3877928 3877935 3865467 3865462,\n",
       " CQUAD4   2371162 6362100 3877928 3877921 3877929 3877936,\n",
       " CQUAD4   2371169 6362100 3877935 3877928 3877936 3877942,\n",
       " CQUAD4   2371157 6362100 3877923 3877924 3877930 3877922,\n",
       " CQUAD4   2371163 6362100 3877930 3877937 3877929 3877922,\n",
       " CQUAD4   2371164 6362100 3877924 3877931 3877938 3877930,\n",
       " CQUAD4   2371171 6362100 3877937 3877930 3877938 3877944,\n",
       " CTRIA3   2372204 6362100 3882031 3882033 3882032,\n",
       " CQUAD4   2372209 6362100 3882024 3882032 3882040 3882035,\n",
       " CQUAD4   2372210 6362100 3882037 3882041 3882032 3882033,\n",
       " CQUAD4   2372215 6362100 3882041 3882047 3882040 3882032,\n",
       " CQUAD4   2374653 6362100 3882018 3882031 3882032 3882024,\n",
       " CQUAD4   2371168 6362100 3877935 3877941 3865471 3865467,\n",
       " CQUAD4   2371175 6362100 3877947 3865472 3865471 3877941,\n",
       " CQUAD4   2371176 6362100 3877941 3877935 3877942 3877948,\n",
       " CQUAD4   2371183 6362100 3877948 3877954 3877947 3877941,\n",
       " CQUAD4   2372208 6362100 3882038 3882021 3882022 3882039,\n",
       " CQUAD4   2372214 6362100 3882045 3882036 3882021 3882038,\n",
       " CQUAD4   2372219 6362100 3882053 3882038 3882039 3882054,\n",
       " CQUAD4   2372223 6362100 3882058 3882045 3882038 3882053,\n",
       " CQUAD4   2371170 6362100 3877937 3877943 3877936 3877929,\n",
       " CQUAD4   2371177 6362100 3877943 3877949 3877942 3877936,\n",
       " CQUAD4   2371178 6362100 3877943 3877937 3877944 3877950,\n",
       " CQUAD4   2371185 6362100 3877949 3877943 3877950 3877956,\n",
       " CQUAD4   2371173 6362100 3877939 3877945 3877938 3877931,\n",
       " CQUAD4   2371179 6362100 3877945 3877951 3877944 3877938,\n",
       " CQUAD4   2371181 6362100 3877952 3877945 3877939 3877946,\n",
       " CQUAD4   2371187 6362100 3877945 3877952 3877958 3877951,\n",
       " CQUAD4   2372212 6362100 3882020 3882026 3882044 3882029,\n",
       " CQUAD4   2372216 6362100 3882029 3882044 3882049 3882037,\n",
       " CQUAD4   2372218 6362100 3882026 3882042 3882051 3882044,\n",
       " CQUAD4   2372220 6362100 3882049 3882044 3882051 3882055,\n",
       " CQUAD4   2382120 6362500 3874655 3874874 3874579 3874880,\n",
       " CQUAD4   2382185 6362500 3875060 3875160 3874880 3875059,\n",
       " CQUAD4   2382375 6362500 3874890 3874880 3874579 3874580,\n",
       " CTRIA3   2382388 6362500 3874890 3875059 3874880,\n",
       " CQUAD4   2382402 6362500 3874655 3874880 3875160 3874658,\n",
       " CQUAD4   2371184 6362100 3877949 3877955 3877948 3877942,\n",
       " CQUAD4   2371191 6362100 3877954 3877948 3877955 3877961,\n",
       " CQUAD4   2371192 6362100 3877955 3877949 3877956 3877962,\n",
       " CQUAD4   2371196 6362100 3877961 3877955 3877962 3877966,\n",
       " CQUAD4   2371186 6362100 3877951 3877957 3877950 3877944,\n",
       " CQUAD4   2371193 6362100 3877957 3877963 3877956 3877950,\n",
       " CQUAD4   2371194 6362100 3877964 3877957 3877951 3877958,\n",
       " CQUAD4   2371201 6362100 3877957 3877964 3877969 3877963,\n",
       " CQUAD4   2372221 6362100 3882037 3882049 3882056 3882041,\n",
       " CQUAD4   2372232 6362100 3882069 3882068 3882056 3882070,\n",
       " CQUAD4   2374515 6362100 3882068 3882047 3882041 3882056,\n",
       " CQUAD4   2374607 6362100 3882070 3882056 3882049 3882055,\n",
       " CQUAD4   2372222 6362100 3882050 3882036 3882045 3882057,\n",
       " CQUAD4   2372227 6362100 3882045 3882058 3882062 3882057,\n",
       " CQUAD4   2372229 6362100 3882057 3882066 3882065 3882050,\n",
       " CQUAD4   2372233 6362100 3882066 3882057 3882062 3882071,\n",
       " CQUAD4   2370498 6362100 3865418 4352852 3865239 3865245,\n",
       " CQUAD4   2370501 6362100 3865255 3865418 3865245 3865261,\n",
       " CQUAD4   2370540 6362100 3865255 3865257 3865490 3865418,\n",
       " CTRIA3   2374751 6362100 3865418 4352851 4352852,\n",
       " CQUAD4   2374754 6362100 3865490 4352850 4352851 3865418,\n",
       " CQUAD4   2442966 6453100 4130382 4128941 4120951 4128892,\n",
       " CQUAD4   2443246 6453100 4130382 4128892 4120947 4126802,\n",
       " CQUAD4   2443324 6453100 4130382 4126801 4126800 4128941,\n",
       " CTRIA3   2443325 6453100 4130382 4126802 4126801,\n",
       " CQUAD4   2372227 6362100 3882045 3882058 3882062 3882057,\n",
       " CQUAD4   2372233 6362100 3882066 3882057 3882062 3882071,\n",
       " CQUAD4   2372235 6362100 3882067 3882076 3882062 3882058,\n",
       " CTRIA3   2372240 6362100 3882076 3882071 3882062,\n",
       " CQUAD4   2371200 6362100 3877962 3877956 3877963 3877968,\n",
       " CQUAD4   2371206 6362100 3877968 3877973 3877966 3877962,\n",
       " CQUAD4   2371207 6362100 3877969 3877974 3877968 3877963,\n",
       " CTRIA3   2371212 6362100 3877978 3877968 3877974,\n",
       " CQUAD4   2371213 6362100 3877979 3877973 3877968 3877978,\n",
       " CQUAD4   2382044 6362500 3874385 3874305 3874365 3874386,\n",
       " CQUAD4   2382045 6362500 3874387 3874304 3874305 3874385,\n",
       " CTRIA3   2382316 6362500 3874385 3874616 3874973,\n",
       " CQUAD4   2382356 6362500 3874390 3874616 3874385 3874386,\n",
       " CQUAD4   2382409 6362500 3874973 3874975 3874387 3874385,\n",
       " CQUAD4   2442967 6453100 4126803 4120932 4120933 4126804,\n",
       " CQUAD4   2442968 6453100 4120932 4126803 4128878 4120937,\n",
       " CQUAD4   2442973 6453100 4126803 4126804 4126797 4126798,\n",
       " CQUAD4   2442974 6453100 4128878 4126803 4126798 4126799,\n",
       " CQUAD4   2372237 6362100 3882063 3882077 3882070 3882055,\n",
       " CQUAD4   2372239 6362100 3882070 3882077 3882078 3882069,\n",
       " CQUAD4   2372242 6362100 3882077 3882064 3882081 3882080,\n",
       " CQUAD4   2372246 6362100 3882087 3882078 3882077 3882080,\n",
       " CTRIA3   2374681 6362100 3882064 3882077 3882063,\n",
       " CQUAD4   2442582 6453100 4120679 4120678 4120677 4120897,\n",
       " CTRIA3   2442583 6453100 4120681 4120680 4120679,\n",
       " CQUAD4   2442584 6453100 4120682 4120683 4120678 4120679,\n",
       " CTRIA3   2442704 6453100 4120680 4120682 4120679,\n",
       " CQUAD4   2445145 6453100 4132201 4120681 4120679 4120897,\n",
       " CQUAD4   2370895 6362100 3877493 3877497 3877495 3877492,\n",
       " CQUAD4   2370896 6362100 3877497 3877493 3877494 3877498,\n",
       " CQUAD4   2370897 6362100 3877497 3877501 3877499 3877495,\n",
       " CQUAD4   2370898 6362100 3877501 3877497 3877498 3877502,\n",
       " CQUAD4   2370899 6362100 3877501 3877504 3877503 3877499,\n",
       " CQUAD4   2370900 6362100 3877504 3877501 3877502 3877505,\n",
       " CQUAD4   2370901 6362100 3877504 3877508 3877507 3877503,\n",
       " CQUAD4   2370902 6362100 3877508 3877504 3877505 3877509,\n",
       " CQUAD4   2442585 6453100 4120702 4120705 4120704 4120703,\n",
       " CQUAD4   2442586 6453100 4120706 4120707 4120703 4120704,\n",
       " CTRIA3   2442587 6453100 4120704 4120693 4120706,\n",
       " CQUAD4   2442705 6453100 4120694 4120704 4120705 4120710,\n",
       " CTRIA3   2442706 6453100 4120693 4120704 4120694,\n",
       " CQUAD4   2443689 6453100 4131462 4131170 4131169 4120680,\n",
       " CQUAD4   2443698 6453100 4120680 4120681 4132123 4131462,\n",
       " CQUAD4   2444430 6453100 4131170 4131462 4131707 4131705,\n",
       " CQUAD4   2444431 6453100 4131462 4131708 4120697 4131707,\n",
       " CTRIA3   2444998 6453100 4132123 4131708 4131462,\n",
       " CQUAD4   2370903 6362100 3877508 3877512 3877511 3877507,\n",
       " CQUAD4   2370904 6362100 3877512 3877508 3877509 3877513,\n",
       " CQUAD4   2370905 6362100 3877512 3877515 3877514 3877511,\n",
       " CQUAD4   2370906 6362100 3877515 3877512 3877513 3877516,\n",
       " CQUAD4   2442733 6453100 4120945 4120950 4120952 4128906,\n",
       " CQUAD4   2442734 6453100 4120945 4128906 4120943 4128908,\n",
       " CQUAD4   2442737 6453100 4128906 4120952 4120953 4120946,\n",
       " CQUAD4   2443205 6453100 4128906 4120946 4128817 4120943,\n",
       " CQUAD4   2370463 6362100 3865237 3865244 3865243 3865239,\n",
       " CQUAD4   2370483 6362100 3865397 3865237 3865377 3865042,\n",
       " CQUAD4   2370484 6362100 3865237 3865397 3865398 3865244,\n",
       " CQUAD4   2370485 6362100 3865377 3865237 3865239 3865404,\n",
       " CTRIA3   2370465 6362100 3865245 3865246 3865248,\n",
       " CQUAD4   2370467 6362100 3865260 3865261 3865245 3865248,\n",
       " CQUAD4   2373595 6362100 3891945 3865248 3865246 3891941,\n",
       " CQUAD4   2373600 6362100 3865248 3891945 3891949 3865260,\n",
       " CQUAD4   2382147 6362500 3874339 3874986 3874985 3874342,\n",
       " CQUAD4   2382365 6362500 3874985 3874986 3875358 3874387,\n",
       " CQUAD4   2382386 6362500 3874985 3874878 3874876 3874342,\n",
       " CQUAD4   2382408 6362500 3874387 3874975 3874878 3874985,\n",
       " CQUAD4   2442595 6453100 4120746 4120747 4120744 4120745,\n",
       " CQUAD4   2442596 6453100 4120737 4120747 4120746 4120748,\n",
       " CTRIA3   2442597 6453100 4120747 4120737 4120708,\n",
       " CQUAD4   2443635 6453100 4131150 4131143 4120744 4120747,\n",
       " CQUAD4   2443647 6453100 4120707 4131150 4120747 4120708,\n",
       " CQUAD4   2370467 6362100 3865260 3865261 3865245 3865248,\n",
       " CQUAD4   2370469 6362100 3865261 3865260 3865262 3865254,\n",
       " CQUAD4   2373600 6362100 3865248 3891945 3891949 3865260,\n",
       " CTRIA3   2373602 6362100 3891952 3865260 3891949,\n",
       " CQUAD4   2373607 6362100 3891952 3891963 3865262 3865260,\n",
       " CQUAD4   2442940 6453100 4128939 4128940 4124355 4128935,\n",
       " CQUAD4   2443168 6453100 4128938 4128940 4126789 4120915,\n",
       " CQUAD4   2443318 6453100 4126794 4124355 4128940 4128938,\n",
       " CQUAD4   2443320 6453100 4126788 4126789 4128940 4128939,\n",
       " CQUAD4   2442887 6453100 4124334 4124339 4124337 4124331,\n",
       " CQUAD4   2442889 6453100 4124341 4124339 4124334 4124318,\n",
       " CTRIA3   2442890 6453100 4124318 4124334 4131512,\n",
       " CQUAD4   2442953 6453100 4128943 4124343 4128933 4128944,\n",
       " CQUAD4   2443076 6453100 4128944 4124345 4126793 4128942,\n",
       " CTRIA3   2443339 6453100 4128944 4128933 4124345,\n",
       " CQUAD4   2443355 6453100 4126795 4128944 4128942 4120914,\n",
       " CQUAD4   2443356 6453100 4126795 4126796 4128943 4128944,\n",
       " CQUAD4   2382150 6362500 3874991 3874989 3874994 3874992,\n",
       " CQUAD4   2382183 6362500 3874755 3875158 3874992 3875157,\n",
       " CQUAD4   2382268 6362500 3874991 3874992 3875158 3875376,\n",
       " CTRIA3   2382313 6362500 3874994 3875157 3874992,\n",
       " CQUAD4   2382055 6362500 3874478 3874482 3874481 3874480,\n",
       " CTRIA3   2382184 6362500 3874756 3874481 3875159,\n",
       " CQUAD4   2382244 6362500 3875286 3874481 3874482 3874407,\n",
       " CQUAD4   2382270 6362500 3875377 3875159 3874481 3875286,\n",
       " CTRIA3   2382377 6362500 3874480 3874481 3874756,\n",
       " CQUAD4   2442893 6453100 4128959 4124346 4131514 4131512,\n",
       " CQUAD4   2442895 6453100 4124347 4124349 4124346 4128959,\n",
       " CQUAD4   2443261 6453100 4124336 4128855 4131520 4131467,\n",
       " CQUAD4   2445134 6453100 4131647 4130365 4131520 4128855,\n",
       " CQUAD4   2373583 6362100 3865398 3891932 3891934 3865244,\n",
       " CQUAD4   2373587 6362100 3865244 3891934 3891938 3865243,\n",
       " CQUAD4   2373588 6362100 3891939 3891934 3891932 3891936,\n",
       " CQUAD4   2373592 6362100 3891934 3891939 3891942 3891938,\n",
       " CQUAD4   2373591 6362100 3891941 3865246 3865243 3891938,\n",
       " CQUAD4   2373595 6362100 3891945 3865248 3865246 3891941,\n",
       " CQUAD4   2373596 6362100 3891946 3891941 3891938 3891942,\n",
       " CQUAD4   2373601 6362100 3891950 3891945 3891941 3891946,\n",
       " CQUAD4   2373593 6362100 3891940 3891944 3891939 3891936,\n",
       " CQUAD4   2373598 6362100 3891944 3891948 3891942 3891939,\n",
       " CQUAD4   2373599 6362100 3891944 3891940 3877492 3877495,\n",
       " CQUAD4   2373606 6362100 3891948 3891944 3877495 3877499,\n",
       " CQUAD4   2373604 6362100 3891957 3891946 3891942 3891948,\n",
       " CQUAD4   2373610 6362100 3891946 3891957 3891969 3891950,\n",
       " CQUAD4   2373612 6362100 3877503 3891957 3891948 3877499,\n",
       " CQUAD4   2373618 6362100 3891957 3877503 3877507 3891969,\n",
       " CQUAD4   2373609 6362100 3891945 3891950 3891964 3891949,\n",
       " CQUAD4   2373615 6362100 3891980 3891952 3891949 3891964,\n",
       " CQUAD4   2373621 6362100 3891981 3891984 3891980 3891964,\n",
       " CTRIA3   2374545 6362100 3891981 3891964 3891950,\n",
       " CQUAD4   2382372 6362500 3874864 3883261 3883262 3874521,\n",
       " CQUAD4   2382373 6362500 3883262 3883253 3874520 3874521,\n",
       " CQUAD4   2382393 6362500 3883262 3883261 3883305 3883306,\n",
       " CQUAD4   2382394 6362500 3883257 3883253 3883262 3883306,\n",
       " CQUAD4   2373617 6362100 3891981 3891950 3891969 3891982,\n",
       " CQUAD4   2373622 6362100 3891982 3891969 3877507 3877511,\n",
       " CQUAD4   2373626 6362100 3891989 3891984 3891981 3891982,\n",
       " CQUAD4   2373628 6362100 3877511 3877514 3891989 3891982,\n",
       " CQUAD4   2370491 6362100 3865410 3865413 3865412 3865411,\n",
       " CQUAD4   2370504 6362100 3865424 3865411 3865412 3865422,\n",
       " CQUAD4   2371204 6362100 3865412 3877964 3877958 3865422,\n",
       " CQUAD4   2371211 6362100 3877964 3865412 3865413 3877969,\n",
       " CQUAD4   2442700 6453100 4120898 4120901 4120900 4120899,\n",
       " CQUAD4   2442701 6453100 4120901 4120898 4120903 4120902,\n",
       " CQUAD4   2442944 6453100 4120901 4120918 4120916 4120900,\n",
       " CQUAD4   2442945 6453100 4120920 4120918 4120901 4120902,\n",
       " CQUAD4   2370492 6362100 3865410 3865411 3865415 3865414,\n",
       " CQUAD4   2370495 6362100 3865410 3865414 3865090 3865416,\n",
       " CQUAD4   2370496 6362100 3865257 3865249 3865090 3865414,\n",
       " CQUAD4   2370539 6362100 3865490 3865257 3865414 3865415,\n",
       " CQUAD4   2370492 6362100 3865410 3865411 3865415 3865414,\n",
       " CQUAD4   2370505 6362100 4352853 3865415 3865411 3865424,\n",
       " CQUAD4   2370539 6362100 3865490 3865257 3865414 3865415,\n",
       " CQUAD4   2374760 6362100 4352850 3865490 3865415 4352853,\n",
       " CQUAD4   2374750 6362100 4352848 4352847 4352843 4352838,\n",
       " CQUAD4   2374756 6362100 4352838 4352843 4352845 4352841,\n",
       " CQUAD4   2370493 6362100 3865416 3865417 3865413 3865410,\n",
       " CQUAD4   2370494 6362100 3865416 3865119 3865120 3865417,\n",
       " CQUAD4   2371215 6362100 3877974 3877969 3865413 3865417,\n",
       " CQUAD4   2371221 6362100 3865120 3877978 3877974 3865417,\n",
       " CQUAD4   2374755 6362100 4352839 4352846 4352847 4352848,\n",
       " CQUAD4   2374757 6362100 4352849 4352842 4352846 4352839,\n",
       " CQUAD4   2374745 6362100 4352840 4352844 4352842 4352849,\n",
       " CQUAD4   2374753 6362100 4352841 4352845 4352844 4352840,\n",
       " CQUAD4   2374753 6362100 4352841 4352845 4352844 4352840,\n",
       " CQUAD4   2374756 6362100 4352838 4352843 4352845 4352841,\n",
       " CTRIA3   2370537 6362100 4352846 4352842 3865426,\n",
       " CQUAD4   2370538 6362100 4352842 4352850 4352853 3865426,\n",
       " CQUAD4   2374745 6362100 4352840 4352844 4352842 4352849,\n",
       " CQUAD4   2374757 6362100 4352849 4352842 4352846 4352839,\n",
       " CQUAD4   2374762 6362100 4352850 4352842 4352844 4352851,\n",
       " CQUAD4   2374744 6362100 4352845 4352843 3865051 3865377,\n",
       " CQUAD4   2374747 6362100 3865438 3865051 4352843 4352847,\n",
       " CQUAD4   2374750 6362100 4352848 4352847 4352843 4352838,\n",
       " CQUAD4   2374756 6362100 4352838 4352843 4352845 4352841,\n",
       " CQUAD4   2374745 6362100 4352840 4352844 4352842 4352849,\n",
       " CQUAD4   2374749 6362100 3865377 3865404 4352844 4352845,\n",
       " CQUAD4   2374753 6362100 4352841 4352845 4352844 4352840,\n",
       " CQUAD4   2374761 6362100 4352851 4352844 3865404 4352852,\n",
       " CQUAD4   2374762 6362100 4352850 4352842 4352844 4352851,\n",
       " CQUAD4   2374744 6362100 4352845 4352843 3865051 3865377,\n",
       " CQUAD4   2374749 6362100 3865377 3865404 4352844 4352845,\n",
       " CQUAD4   2374753 6362100 4352841 4352845 4352844 4352840,\n",
       " CQUAD4   2374756 6362100 4352838 4352843 4352845 4352841,\n",
       " CTRIA3   2370537 6362100 4352846 4352842 3865426,\n",
       " CTRIA3   2374748 6362100 4352846 3865426 3865427,\n",
       " CTRIA3   2374752 6362100 4352846 3865427 4352847,\n",
       " CQUAD4   2374755 6362100 4352839 4352846 4352847 4352848,\n",
       " CQUAD4   2374757 6362100 4352849 4352842 4352846 4352839,\n",
       " CTRIA3   2374746 6362100 4352847 3865427 3865438,\n",
       " CQUAD4   2374747 6362100 3865438 3865051 4352843 4352847,\n",
       " CQUAD4   2374750 6362100 4352848 4352847 4352843 4352838,\n",
       " CTRIA3   2374752 6362100 4352846 3865427 4352847,\n",
       " CQUAD4   2374755 6362100 4352839 4352846 4352847 4352848,\n",
       " CQUAD4   2374750 6362100 4352848 4352847 4352843 4352838,\n",
       " CQUAD4   2374755 6362100 4352839 4352846 4352847 4352848,\n",
       " CQUAD4   2374745 6362100 4352840 4352844 4352842 4352849,\n",
       " CQUAD4   2374757 6362100 4352849 4352842 4352846 4352839,\n",
       " CQUAD4   2370502 6362100 3865420 3865424 3865422 3865421,\n",
       " CQUAD4   2370512 6362100 3865435 3865437 3865420 3865421,\n",
       " CQUAD4   2371190 6362100 3865421 3877952 3877946 3865435,\n",
       " CQUAD4   2371198 6362100 3877952 3865421 3865422 3877958,\n",
       " CQUAD4   2443646 6453100 4131143 4131150 4131156 4131149,\n",
       " CQUAD4   2443653 6453100 4131163 4131159 4131149 4131156,\n",
       " CQUAD4   2443655 6453100 4120707 4131161 4131156 4131150,\n",
       " CQUAD4   2444244 6453100 4131166 4131163 4131156 4131161,\n",
       " CQUAD4   2382187 6362500 3874485 3875162 3875161 3875062,\n",
       " CQUAD4   2382389 6362500 3874485 3874483 3883259 3875162,\n",
       " CQUAD4   2382405 6362500 3875161 3875162 3883310 3883308,\n",
       " CQUAD4   2382406 6362500 3883259 3874608 3883310 3875162,\n",
       " CQUAD4   2443664 6453100 4131165 4131161 4120707 4120706,\n",
       " CQUAD4   2444239 6453100 4131626 4131165 4131168 4131173,\n",
       " CQUAD4   2444377 6453100 4131626 4131166 4131161 4131165,\n",
       " CQUAD4   2444390 6453100 4120706 4120693 4131168 4131165,\n",
       " CQUAD4   2442708 6453100 4120904 4120907 4120906 4120905,\n",
       " CQUAD4   2442951 6453100 4120913 4120917 4120904 4120905,\n",
       " CQUAD4   2442957 6453100 4120904 4120917 4120919 4120909,\n",
       " CQUAD4   2443250 6453100 4120907 4120904 4120909 4120908,\n",
       " CQUAD4   2370440 6362100 3865042 3865051 3865048 3865046\n",
       "                               2.,\n",
       " CTRIA3   2370477 6362100 3865042 3865377 3865051,\n",
       " CTRIA3   2370479 6362100 3865042 3865046 3865397,\n",
       " CQUAD4   2370483 6362100 3865397 3865237 3865377 3865042,\n",
       " CQUAD4   2372152 6362100 3881941 3881946 3881954 3881945,\n",
       " CQUAD4   2372155 6362100 3881954 3881960 3881953 3881945,\n",
       " CQUAD4   2372157 6362100 3881954 3881946 3881956 3881962,\n",
       " CQUAD4   2372164 6362100 3881954 3881962 3881972 3881960,\n",
       " CQUAD4   2372167 6362100 3881975 3881978 3881977 3881976,\n",
       " CQUAD4   2372173 6362100 3881986 3881987 3881976 3881977,\n",
       " CQUAD4   2374442 6362100 3881976 3881968 3881967 3881975,\n",
       " CQUAD4   2374670 6362100 3881987 3881974 3881968 3881976,\n",
       " CQUAD4   2372170 6362100 3881973 3881982 3881971 3881966,\n",
       " CQUAD4   2372177 6362100 3881982 3881996 3881981 3881971,\n",
       " CQUAD4   2372187 6362100 3882000 3882009 3881982 3881973,\n",
       " CQUAD4   2374408 6362100 3882009 3882015 3881996 3881982]"
      ]
     },
     "execution_count": 29,
     "metadata": {},
     "output_type": "execute_result"
    }
   ],
   "source": [
    "ele_singular = []\n",
    "node_id_to_elements_map = bdf.get_node_id_to_elements_map() # info: no 0D and 1D elements!\n",
    "for n in set(spc_nodes + rbe_nodes):\n",
    "    ele_singular.extend(node_id_to_elements_map[n])\n",
    "ele_singular"
   ]
  },
  {
   "cell_type": "code",
   "execution_count": 30,
   "metadata": {},
   "outputs": [
    {
     "name": "stdout",
     "output_type": "stream",
     "text": [
      "[2370448, 2370495, 2370496, 2370497, 2374542, 2370448, 2370468, 2374542, 2374549, 2374551, 2372178, 2372185, 2374667, 2374669, 2372182, 2372189, 2372190, 2372194, 2371147, 2371150, 2371151, 2371156, 2372195, 2372200, 2372202, 2372211, 2382104, 2382117, 2382354, 2382370, 2371155, 2371161, 2371162, 2371169, 2371157, 2371163, 2371164, 2371171, 2372204, 2372209, 2372210, 2372215, 2374653, 2371168, 2371175, 2371176, 2371183, 2372208, 2372214, 2372219, 2372223, 2371170, 2371177, 2371178, 2371185, 2371173, 2371179, 2371181, 2371187, 2372212, 2372216, 2372218, 2372220, 2382120, 2382185, 2382375, 2382388, 2382402, 2371184, 2371191, 2371192, 2371196, 2371186, 2371193, 2371194, 2371201, 2372221, 2372232, 2374515, 2374607, 2372222, 2372227, 2372229, 2372233, 2370498, 2370501, 2370540, 2374751, 2374754, 2442966, 2443246, 2443324, 2443325, 2372227, 2372233, 2372235, 2372240, 2371200, 2371206, 2371207, 2371212, 2371213, 2382044, 2382045, 2382316, 2382356, 2382409, 2442967, 2442968, 2442973, 2442974, 2372237, 2372239, 2372242, 2372246, 2374681, 2442582, 2442583, 2442584, 2442704, 2445145, 2370895, 2370896, 2370897, 2370898, 2370899, 2370900, 2370901, 2370902, 2442585, 2442586, 2442587, 2442705, 2442706, 2443689, 2443698, 2444430, 2444431, 2444998, 2370903, 2370904, 2370905, 2370906, 2442733, 2442734, 2442737, 2443205, 2370463, 2370483, 2370484, 2370485, 2370465, 2370467, 2373595, 2373600, 2382147, 2382365, 2382386, 2382408, 2442595, 2442596, 2442597, 2443635, 2443647, 2370467, 2370469, 2373600, 2373602, 2373607, 2442940, 2443168, 2443318, 2443320, 2442887, 2442889, 2442890, 2442953, 2443076, 2443339, 2443355, 2443356, 2382150, 2382183, 2382268, 2382313, 2382055, 2382184, 2382244, 2382270, 2382377, 2442893, 2442895, 2443261, 2445134, 2373583, 2373587, 2373588, 2373592, 2373591, 2373595, 2373596, 2373601, 2373593, 2373598, 2373599, 2373606, 2373604, 2373610, 2373612, 2373618, 2373609, 2373615, 2373621, 2374545, 2382372, 2382373, 2382393, 2382394, 2373617, 2373622, 2373626, 2373628, 2370491, 2370504, 2371204, 2371211, 2442700, 2442701, 2442944, 2442945, 2370492, 2370495, 2370496, 2370539, 2370492, 2370505, 2370539, 2374760, 2374750, 2374756, 2370493, 2370494, 2371215, 2371221, 2374755, 2374757, 2374745, 2374753, 2374753, 2374756, 2370537, 2370538, 2374745, 2374757, 2374762, 2374744, 2374747, 2374750, 2374756, 2374745, 2374749, 2374753, 2374761, 2374762, 2374744, 2374749, 2374753, 2374756, 2370537, 2374748, 2374752, 2374755, 2374757, 2374746, 2374747, 2374750, 2374752, 2374755, 2374750, 2374755, 2374745, 2374757, 2370502, 2370512, 2371190, 2371198, 2443646, 2443653, 2443655, 2444244, 2382187, 2382389, 2382405, 2382406, 2443664, 2444239, 2444377, 2444390, 2442708, 2442951, 2442957, 2443250, 2370440, 2370477, 2370479, 2370483, 2372152, 2372155, 2372157, 2372164, 2372167, 2372173, 2374442, 2374670, 2372170, 2372177, 2372187, 2374408]\n"
     ]
    }
   ],
   "source": [
    "ele_singular_ids = []\n",
    "for ele in ele_singular:\n",
    "    ele_singular_ids.append(ele.eid)\n",
    "print(ele_singular_ids)"
   ]
  },
  {
   "cell_type": "code",
   "execution_count": 31,
   "metadata": {},
   "outputs": [
    {
     "name": "stdout",
     "output_type": "stream",
     "text": [
      "[2370448, 2370495, 2370496, 2370497, 2374542, 2370448, 2370468, 2374542, 2374549, 2374551, 2372178, 2372185, 2374667, 2374669, 2372182, 2372189, 2372190, 2372194, 2371147, 2371150, 2371151, 2371156, 2372195, 2372200, 2372202, 2372211, 2382104, 2382117, 2382354, 2382370, 2371155, 2371161, 2371162, 2371169, 2371157, 2371163, 2371164, 2371171, 2372204, 2372209, 2372210, 2372215, 2374653, 2371168, 2371175, 2371176, 2371183, 2372208, 2372214, 2372219, 2372223, 2371170, 2371177, 2371178, 2371185, 2371173, 2371179, 2371181, 2371187, 2372212, 2372216, 2372218, 2372220, 2382120, 2382185, 2382375, 2382388, 2382402, 2371184, 2371191, 2371192, 2371196, 2371186, 2371193, 2371194, 2371201, 2372221, 2372232, 2374515, 2374607, 2372222, 2372227, 2372229, 2372233, 2370498, 2370501, 2370540, 2374751, 2374754, 2442966, 2443246, 2443324, 2443325, 2372227, 2372233, 2372235, 2372240, 2371200, 2371206, 2371207, 2371212, 2371213, 2382044, 2382045, 2382316, 2382356, 2382409, 2442967, 2442968, 2442973, 2442974, 2372237, 2372239, 2372242, 2372246, 2374681, 2442582, 2442583, 2442584, 2442704, 2445145, 2370895, 2370896, 2370897, 2370898, 2370899, 2370900, 2370901, 2370902, 2442585, 2442586, 2442587, 2442705, 2442706, 2443689, 2443698, 2444430, 2444431, 2444998, 2370903, 2370904, 2370905, 2370906, 2442733, 2442734, 2442737, 2443205, 2370463, 2370483, 2370484, 2370485, 2370465, 2370467, 2373595, 2373600, 2382147, 2382365, 2382386, 2382408, 2442595, 2442596, 2442597, 2443635, 2443647, 2370467, 2370469, 2373600, 2373602, 2373607, 2442940, 2443168, 2443318, 2443320, 2442887, 2442889, 2442890, 2442953, 2443076, 2443339, 2443355, 2443356, 2382150, 2382183, 2382268, 2382313, 2382055, 2382184, 2382244, 2382270, 2382377, 2442893, 2442895, 2443261, 2445134, 2373583, 2373587, 2373588, 2373592, 2373591, 2373595, 2373596, 2373601, 2373593, 2373598, 2373599, 2373606, 2373604, 2373610, 2373612, 2373618, 2373609, 2373615, 2373621, 2374545, 2382372, 2382373, 2382393, 2382394, 2373617, 2373622, 2373626, 2373628, 2370491, 2370504, 2371204, 2371211, 2442700, 2442701, 2442944, 2442945, 2370492, 2370495, 2370496, 2370539, 2370492, 2370505, 2370539, 2374760, 2374750, 2374756, 2370493, 2370494, 2371215, 2371221, 2374755, 2374757, 2374745, 2374753, 2374753, 2374756, 2370537, 2370538, 2374745, 2374757, 2374762, 2374744, 2374747, 2374750, 2374756, 2374745, 2374749, 2374753, 2374761, 2374762, 2374744, 2374749, 2374753, 2374756, 2370537, 2374748, 2374752, 2374755, 2374757, 2374746, 2374747, 2374750, 2374752, 2374755, 2374750, 2374755, 2374745, 2374757, 2370502, 2370512, 2371190, 2371198, 2443646, 2443653, 2443655, 2444244, 2382187, 2382389, 2382405, 2382406, 2443664, 2444239, 2444377, 2444390, 2442708, 2442951, 2442957, 2443250, 2370440, 2370477, 2370479, 2370483, 2372152, 2372155, 2372157, 2372164, 2372167, 2372173, 2374442, 2374670, 2372170, 2372177, 2372187, 2374408]\n"
     ]
    }
   ],
   "source": [
    "# sometimes a list comprehension is quite useful\n",
    "ele_singular_ids2 = [ ele.eid for ele in ele_singular]\n",
    "print(ele_singular_ids2)"
   ]
  },
  {
   "cell_type": "code",
   "execution_count": 32,
   "metadata": {},
   "outputs": [
    {
     "data": {
      "text/plain": [
       "'SET 1 = 2370440, 2370448, 2370448, 2370463, 2370465, 2370467, \\n        2370467, 2370468, 2370469, 2370477, 2370479, 2370483, \\n        2370484, 2370485, 2370491, 2370492, 2370495, 2370496, \\n        2370496, 2370497, 2370498, 2370501, 2370502, 2370504, \\n        2370505, 2370512, 2370537, 2370537, 2370538, 2370539, \\n        2370539, 2370540, 2371147, 2371150, 2371151, 2371155, \\n        2371156, 2371157, 2371173, 2371175, 2371181, 2371183, \\n        2371196, 2371198, 2371200, 2371201, 2371204, 2371206, \\n        2371207, 2371211, 2371212, 2371213, 2371215, 2371221, \\n        2372152, 2372155, 2372157, 2372164, 2372167, 2372170, \\n        2372173, 2372177, 2372178, 2372182, 2372185, 2372187, \\n        2372189, 2372190, 2372194, 2372195, 2372200, 2372202, \\n        2372204, 2372214, 2372215, 2372216, 2372227, 2372229, \\n        2372232, 2372233, 2372235, 2372237, 2372239, 2372240, \\n        2372242, 2372246, 2373583, 2373587, 2373588, 2373591, \\n        2373592, 2373593, 2373595, 2373596, 2373598, 2373599, \\n        2373600, 2373600, 2373601, 2373602, 2373604, 2373606, \\n        2373607, 2373609, 2373610, 2373612, 2373615, 2373617, \\n        2373618, 2373621, 2373622, 2373626, 2373628, 2374408, \\n        2374442, 2374515, 2374542, 2374545, 2374549, 2374551, \\n        2374607, 2374653, 2374667, 2374669, 2374670, 2374681, \\n        2374744, 2374744, 2374745, 2374745, 2374746, 2374747, \\n        2374747, 2374748, 2374749, 2374749, 2374750, 2374750, \\n        2374751, 2374752, 2374752, 2374753, 2374753, 2374754, \\n        2374755, 2374755, 2374756, 2374757, 2374760, 2374761, \\n        2374762, 2374762, 2382044, 2382045, 2382055, 2382104, \\n        2382117, 2382120, 2382147, 2382150, 2382183, 2382184, \\n        2382185, 2382187, 2382244, 2382268, 2382270, 2382313, \\n        2382316, 2382354, 2382356, 2382365, 2382370, 2382372, \\n        2382373, 2382375, 2382377, 2382386, 2382388, 2382389, \\n        2382393, 2382394, 2382402, 2382405, 2382406, 2382408, \\n        2382409, 2442595, 2442596, 2442597, 2442700, 2442701, \\n        2442704, 2442705, 2442706, 2442708, 2442733, 2442734, \\n        2442737, 2442887, 2442889, 2442890, 2442893, 2442895, \\n        2442940, 2442944, 2442945, 2442951, 2442953, 2442957, \\n        2442966, 2442967, 2442968, 2442973, 2442974, 2443076, \\n        2443168, 2443205, 2443246, 2443250, 2443261, 2443318, \\n        2443320, 2443324, 2443325, 2443339, 2443355, 2443356, \\n        2443635, 2443646, 2443647, 2443653, 2443655, 2443664, \\n        2443689, 2443698, 2444239, 2444244, 2444377, 2444390, \\n        2444430, 2444431, 2444998, 2445134, 2445145, \\n        2370492 THRU 2370495, 2370895 THRU 2370906, \\n        2371161 THRU 2371164, 2371168 THRU 2371171, \\n        2371176 THRU 2371179, 2371184 THRU 2371187, \\n        2371190 THRU 2371194, 2372208 THRU 2372212, \\n        2372218 THRU 2372223, 2442582 THRU 2442587\\n'"
      ]
     },
     "execution_count": 32,
     "metadata": {},
     "output_type": "execute_result"
    }
   ],
   "source": [
    "write_set(1,ele_singular_ids)"
   ]
  },
  {
   "cell_type": "code",
   "execution_count": 33,
   "metadata": {},
   "outputs": [
    {
     "name": "stdout",
     "output_type": "stream",
     "text": [
      "SET 1 = 2370440, 2370448, 2370448, 2370463, 2370465, 2370467, \n",
      "        2370467, 2370468, 2370469, 2370477, 2370479, 2370483, \n",
      "        2370484, 2370485, 2370491, 2370492, 2370495, 2370496, \n",
      "        2370496, 2370497, 2370498, 2370501, 2370502, 2370504, \n",
      "        2370505, 2370512, 2370537, 2370537, 2370538, 2370539, \n",
      "        2370539, 2370540, 2371147, 2371150, 2371151, 2371155, \n",
      "        2371156, 2371157, 2371173, 2371175, 2371181, 2371183, \n",
      "        2371196, 2371198, 2371200, 2371201, 2371204, 2371206, \n",
      "        2371207, 2371211, 2371212, 2371213, 2371215, 2371221, \n",
      "        2372152, 2372155, 2372157, 2372164, 2372167, 2372170, \n",
      "        2372173, 2372177, 2372178, 2372182, 2372185, 2372187, \n",
      "        2372189, 2372190, 2372194, 2372195, 2372200, 2372202, \n",
      "        2372204, 2372214, 2372215, 2372216, 2372227, 2372229, \n",
      "        2372232, 2372233, 2372235, 2372237, 2372239, 2372240, \n",
      "        2372242, 2372246, 2373583, 2373587, 2373588, 2373591, \n",
      "        2373592, 2373593, 2373595, 2373596, 2373598, 2373599, \n",
      "        2373600, 2373600, 2373601, 2373602, 2373604, 2373606, \n",
      "        2373607, 2373609, 2373610, 2373612, 2373615, 2373617, \n",
      "        2373618, 2373621, 2373622, 2373626, 2373628, 2374408, \n",
      "        2374442, 2374515, 2374542, 2374545, 2374549, 2374551, \n",
      "        2374607, 2374653, 2374667, 2374669, 2374670, 2374681, \n",
      "        2374744, 2374744, 2374745, 2374745, 2374746, 2374747, \n",
      "        2374747, 2374748, 2374749, 2374749, 2374750, 2374750, \n",
      "        2374751, 2374752, 2374752, 2374753, 2374753, 2374754, \n",
      "        2374755, 2374755, 2374756, 2374757, 2374760, 2374761, \n",
      "        2374762, 2374762, 2382044, 2382045, 2382055, 2382104, \n",
      "        2382117, 2382120, 2382147, 2382150, 2382183, 2382184, \n",
      "        2382185, 2382187, 2382244, 2382268, 2382270, 2382313, \n",
      "        2382316, 2382354, 2382356, 2382365, 2382370, 2382372, \n",
      "        2382373, 2382375, 2382377, 2382386, 2382388, 2382389, \n",
      "        2382393, 2382394, 2382402, 2382405, 2382406, 2382408, \n",
      "        2382409, 2442595, 2442596, 2442597, 2442700, 2442701, \n",
      "        2442704, 2442705, 2442706, 2442708, 2442733, 2442734, \n",
      "        2442737, 2442887, 2442889, 2442890, 2442893, 2442895, \n",
      "        2442940, 2442944, 2442945, 2442951, 2442953, 2442957, \n",
      "        2442966, 2442967, 2442968, 2442973, 2442974, 2443076, \n",
      "        2443168, 2443205, 2443246, 2443250, 2443261, 2443318, \n",
      "        2443320, 2443324, 2443325, 2443339, 2443355, 2443356, \n",
      "        2443635, 2443646, 2443647, 2443653, 2443655, 2443664, \n",
      "        2443689, 2443698, 2444239, 2444244, 2444377, 2444390, \n",
      "        2444430, 2444431, 2444998, 2445134, 2445145, \n",
      "        2370492 THRU 2370495, 2370895 THRU 2370906, \n",
      "        2371161 THRU 2371164, 2371168 THRU 2371171, \n",
      "        2371176 THRU 2371179, 2371184 THRU 2371187, \n",
      "        2371190 THRU 2371194, 2372208 THRU 2372212, \n",
      "        2372218 THRU 2372223, 2442582 THRU 2442587\n",
      "MAXMIN(DEF) DISP MAGT ABSOLUTE(1) FULL\n",
      "ECHO = NONE\n",
      "NSM = 444\n",
      "TITLE = CHECH 2HD MASSPRO\n",
      "\n"
     ]
    }
   ],
   "source": [
    "# example to add set to inputdeck and wite out one subcase\n",
    "bdf.subcases[0].add_set_from_values(1,ele_singular_ids)\n",
    "print(bdf.subcases[0].write_subcase('subcase0'))"
   ]
  },
  {
   "cell_type": "code",
   "execution_count": 48,
   "metadata": {},
   "outputs": [
    {
     "name": "stdout",
     "output_type": "stream",
     "text": [
      "SUBCASE 10\n",
      "    DISPLACEMENT(PLOT) = ALL\n",
      "    LOAD = 1\n",
      "    MPC = 1\n",
      "    SPC = 1\n",
      "    SUBTITLE = SIT\n",
      "    TITLE = LOAD:   GLOBAL  BEND\n",
      "\n"
     ]
    }
   ],
   "source": [
    "print(bdf.subcases[10].write_subcase(bdf.subcases[0]))\n",
    "#bdf.subcases"
   ]
  },
  {
   "cell_type": "markdown",
   "metadata": {},
   "source": [
    "## Writing Nastran Cards\n",
    "One way to write out new Nastran data is to generate a BDF object which generates your objects, collect it and writes them out. The advantages is that the data is cross.referenced, so that other functions are possible dealing with the complete structure of the model, like area calculation.\n",
    "\n",
    "The next example shows how to generate and write out different kind of bulk data. All is generated and written out in one step. This is useful for example write out new includes extending your model data.\n",
    "\n",
    "We generate two grids, one MPC connecting these grids, and and RBE2 connecting these grids."
   ]
  },
  {
   "cell_type": "markdown",
   "metadata": {},
   "source": [
    "### Writing cards with BDF object"
   ]
  },
  {
   "cell_type": "code",
   "execution_count": null,
   "metadata": {},
   "outputs": [],
   "source": [
    "bulkdata_filename=\"convert_rbe2_to_mpc.bdf\"\n",
    "\n",
    "bulkdata_file = open(bulkdata_filename, \"w\")\n",
    "bdf_out = BDF()\n",
    "\n",
    "# creare grids\n",
    "nid1 = 1000\n",
    "nid2 = 1001\n",
    "xyz = [1.,2.,3.]\n",
    "bdf_out.add_grid(nid1,xyz)\n",
    "bdf_out.add_grid(nid2,xyz)\n",
    "\n",
    "# create spc \n",
    "bdf_out.add_spc(8000,[nid1],123456,0.0,comment='boundary condition 1')\n",
    "# create mpc\n",
    "mpcid = 1000\n",
    "bdf_out.add_mpc(mpcid,[ nid1 , nid2 ], [123456, 123456], [1.0, -1.0])\n",
    "    \n",
    "# create rbe element\n",
    "rbeid = 3\n",
    "rbegn = nid1\n",
    "rbecm = 123456\n",
    "rbegrids = [nid2]\n",
    "bdf_out.add_rbe2(rbeid,rbegn,rbecm,rbegrids)\n",
    "\n",
    "# write all cards\n",
    "bdf_out.write_bdf(bulkdata_filename)\n",
    "print(bdf_out.get_bdf_stats())\n",
    "\n",
    "bulkdata_file.close()"
   ]
  },
  {
   "cell_type": "code",
   "execution_count": null,
   "metadata": {},
   "outputs": [],
   "source": [
    "!cat convert_rbe2_to_mpc.bdf"
   ]
  },
  {
   "cell_type": "markdown",
   "metadata": {},
   "source": [
    "### Writing cards using card objects\n",
    "Another possibility is just using the card objects to generate the cards, and use the write method of the card objects to output the cards."
   ]
  },
  {
   "cell_type": "markdown",
   "metadata": {},
   "source": [
    "## Manipulating Nastran Decks"
   ]
  },
  {
   "cell_type": "code",
   "execution_count": null,
   "metadata": {},
   "outputs": [],
   "source": []
  },
  {
   "cell_type": "code",
   "execution_count": null,
   "metadata": {},
   "outputs": [],
   "source": []
  },
  {
   "cell_type": "markdown",
   "metadata": {},
   "source": [
    "# Analysing Nastran Models"
   ]
  },
  {
   "cell_type": "markdown",
   "metadata": {},
   "source": [
    "## Get area and mass information"
   ]
  },
  {
   "cell_type": "code",
   "execution_count": null,
   "metadata": {},
   "outputs": [],
   "source": []
  },
  {
   "cell_type": "code",
   "execution_count": null,
   "metadata": {},
   "outputs": [],
   "source": []
  },
  {
   "cell_type": "code",
   "execution_count": null,
   "metadata": {},
   "outputs": [],
   "source": []
  },
  {
   "cell_type": "code",
   "execution_count": null,
   "metadata": {},
   "outputs": [],
   "source": []
  }
 ],
 "metadata": {
  "kernelspec": {
   "display_name": "Python 3",
   "language": "python",
   "name": "python3"
  },
  "language_info": {
   "codemirror_mode": {
    "name": "ipython",
    "version": 3
   },
   "file_extension": ".py",
   "mimetype": "text/x-python",
   "name": "python",
   "nbconvert_exporter": "python",
   "pygments_lexer": "ipython3",
   "version": "3.8.5"
  }
 },
 "nbformat": 4,
 "nbformat_minor": 4
}
