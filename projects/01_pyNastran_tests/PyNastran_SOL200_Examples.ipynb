{
 "cells": [
  {
   "cell_type": "markdown",
   "source": [
    "# PyNastran SOL200 Examples"
   ],
   "metadata": {}
  },
  {
   "cell_type": "code",
   "execution_count": 13,
   "source": [
    "import os\r\n",
    "import sys\r\n",
    "\r\n",
    "import pyNastran\r\n",
    "import csv\r\n",
    "\r\n",
    "from pyNastran.bdf.bdf import BDF, read_bdf\r\n",
    "from pyNastran.bdf.subcase import * # for write_set\r\n",
    "from pyNastran.utils import object_attributes, object_methods\r\n",
    "from pyNastran.bdf.mesh_utils.mass_properties import mass_properties\r\n",
    "\r\n",
    "print (pyNastran.__file__)\r\n",
    "print (pyNastran.__version__)\r\n",
    "pkg_path = pyNastran.__path__[0]\r\n",
    "print (\"Package path: \", pkg_path)\r\n",
    "workspace_path = ''\r\n",
    "model_path = 'data'"
   ],
   "outputs": [
    {
     "output_type": "stream",
     "name": "stdout",
     "text": [
      "C:\\Users\\Andreas\\anaconda3\\lib\\site-packages\\pyNastran\\__init__.py\n",
      "1.3.3\n",
      "Package path:  C:\\Users\\Andreas\\anaconda3\\lib\\site-packages\\pyNastran\n"
     ]
    }
   ],
   "metadata": {}
  },
  {
   "cell_type": "markdown",
   "source": [
    "## iSat Test"
   ],
   "metadata": {}
  },
  {
   "cell_type": "code",
   "execution_count": 14,
   "source": [
    "bdf_filename2 = os.path.abspath(os.path.join(model_path, 'ISat_Dploy_Sm.dat'))\r\n",
    "print(bdf_filename2)\r\n",
    "bdf = read_bdf(bdf_filename2, xref=True)\r\n",
    "# os.listdir('/workspace/nastrancore/models/pyNastran_models')\r\n"
   ],
   "outputs": [
    {
     "output_type": "stream",
     "name": "stdout",
     "text": [
      "c:\\Users\\Andreas\\Documents\\GitHub\\cae-master\\projects\\01_pyNastran_tests\\data\\ISat_Dploy_Sm.dat\n"
     ]
    },
    {
     "output_type": "display_data",
     "data": {
      "text/html": [
       "<text style=color:blue>DEBUG:   bdf.py:995                   ---starting BDF.read_bdf of c:\\Users\\Andreas\\Documents\\GitHub\\cae-master\\projects\\01_pyNastran_tests\\data\\ISat_Dploy_Sm.dat---\n",
       "</text>"
      ],
      "text/plain": [
       "<IPython.core.display.HTML object>"
      ]
     },
     "metadata": {}
    },
    {
     "output_type": "display_data",
     "data": {
      "text/html": [
       "<text style=color:blue>DEBUG:   pybdf.py:556                 opening 'c:\\\\Users\\\\Andreas\\\\Documents\\\\GitHub\\\\cae-master\\\\projects\\\\01_pyNastran_tests\\\\data\\\\ISat_Dploy_Sm.dat'\n",
       "</text>"
      ],
      "text/plain": [
       "<IPython.core.display.HTML object>"
      ]
     },
     "metadata": {}
    },
    {
     "output_type": "display_data",
     "data": {
      "text/html": [
       "<text style=color:blue>DEBUG:   cross_reference.py:151       Cross Referencing...\n",
       "</text>"
      ],
      "text/plain": [
       "<IPython.core.display.HTML object>"
      ]
     },
     "metadata": {}
    },
    {
     "output_type": "display_data",
     "data": {
      "text/html": [
       "<text style=color:orange>WARNING: shell.py:2532                PSHELL pid=1 midsurface: z1=0.4 z2=-0.4 t=0.036 not in range of -1.5t < zi < 1.5t\n",
       "</text>"
      ],
      "text/plain": [
       "<IPython.core.display.HTML object>"
      ]
     },
     "metadata": {}
    },
    {
     "output_type": "display_data",
     "data": {
      "text/html": [
       "<text style=color:orange>WARNING: shell.py:2532                PSHELL pid=2 midsurface: z1=0.4 z2=-0.4 t=0.054 not in range of -1.5t < zi < 1.5t\n",
       "</text>"
      ],
      "text/plain": [
       "<IPython.core.display.HTML object>"
      ]
     },
     "metadata": {}
    },
    {
     "output_type": "display_data",
     "data": {
      "text/html": [
       "<text style=color:orange>WARNING: shell.py:2532                PSHELL pid=3 midsurface: z1=0.4 z2=-0.4 t=0.018 not in range of -1.5t < zi < 1.5t\n",
       "</text>"
      ],
      "text/plain": [
       "<IPython.core.display.HTML object>"
      ]
     },
     "metadata": {}
    },
    {
     "output_type": "display_data",
     "data": {
      "text/html": [
       "<text style=color:orange>WARNING: shell.py:2532                PSHELL pid=7 midsurface: z1=0.418 z2=-0.418 t=0.036 not in range of -1.5t < zi < 1.5t\n",
       "</text>"
      ],
      "text/plain": [
       "<IPython.core.display.HTML object>"
      ]
     },
     "metadata": {}
    },
    {
     "output_type": "display_data",
     "data": {
      "text/html": [
       "<text style=color:orange>WARNING: shell.py:2532                PSHELL pid=34 midsurface: z1=0.194 z2=-0.194 t=0.0186 not in range of -1.5t < zi < 1.5t\n",
       "</text>"
      ],
      "text/plain": [
       "<IPython.core.display.HTML object>"
      ]
     },
     "metadata": {}
    },
    {
     "output_type": "display_data",
     "data": {
      "text/html": [
       "<text style=color:orange>WARNING: shell.py:2532                PSHELL pid=38 midsurface: z1=0.284 z2=-0.284 t=0.0186 not in range of -1.5t < zi < 1.5t\n",
       "</text>"
      ],
      "text/plain": [
       "<IPython.core.display.HTML object>"
      ]
     },
     "metadata": {}
    },
    {
     "output_type": "display_data",
     "data": {
      "text/html": [
       "<text style=color:orange>WARNING: shell.py:2532                PSHELL pid=46 midsurface: z1=0.199 z2=-0.199 t=0.0186 not in range of -1.5t < zi < 1.5t\n",
       "</text>"
      ],
      "text/plain": [
       "<IPython.core.display.HTML object>"
      ]
     },
     "metadata": {}
    },
    {
     "output_type": "display_data",
     "data": {
      "text/html": [
       "<text style=color:orange>WARNING: shell.py:2532                PSHELL pid=37 midsurface: z1=0.309 z2=-0.309 t=0.0186 not in range of -1.5t < zi < 1.5t\n",
       "</text>"
      ],
      "text/plain": [
       "<IPython.core.display.HTML object>"
      ]
     },
     "metadata": {}
    },
    {
     "output_type": "display_data",
     "data": {
      "text/html": [
       "<text style=color:blue>DEBUG:   bdf.py:1043                  ---finished BDF.read_bdf of c:\\Users\\Andreas\\Documents\\GitHub\\cae-master\\projects\\01_pyNastran_tests\\data\\ISat_Dploy_Sm.dat---\n",
       "</text>"
      ],
      "text/plain": [
       "<IPython.core.display.HTML object>"
      ]
     },
     "metadata": {}
    }
   ],
   "metadata": {}
  },
  {
   "cell_type": "code",
   "execution_count": 15,
   "source": [
    "print(bdf.get_bdf_stats())"
   ],
   "outputs": [
    {
     "output_type": "stream",
     "name": "stdout",
     "text": [
      "---BDF Statistics---\n",
      "SOL 103\n",
      "\n",
      "bdf.params\n",
      "  PARAM    : 6\n",
      "\n",
      "bdf.nodes\n",
      "  GRID     : 5367\n",
      "\n",
      "bdf.elements\n",
      "  CBAR     : 790\n",
      "  CBUSH    : 96\n",
      "  CHEXA    : 25\n",
      "  CQUAD4   : 4580\n",
      "  CTRIA3   : 32\n",
      "\n",
      "bdf.rigid_elements\n",
      "  RBE2     : 43\n",
      "\n",
      "bdf.properties\n",
      "  PBARL    : 18\n",
      "  PBUSH    : 1\n",
      "  PSHELL   : 8\n",
      "  PSOLID   : 4\n",
      "\n",
      "bdf.masses\n",
      "  CONM2    : 15\n",
      "\n",
      "bdf.materials\n",
      "  MAT1     : 13\n",
      "  MAT8     : 8\n",
      "\n",
      "bdf.coords\n",
      "  CORD2R   : 73\n",
      "\n",
      "bdf.methods\n",
      "  EIGRL    : 1\n",
      "\n",
      "bdf.usets\n",
      "  USET     : 2\n",
      "\n",
      "\n"
     ]
    }
   ],
   "metadata": {}
  },
  {
   "cell_type": "markdown",
   "source": [
    "### Create SOL200 Cards"
   ],
   "metadata": {}
  },
  {
   "cell_type": "markdown",
   "source": [
    "Work:\n",
    "- generate SOL200 cards vor PSHELLS\n",
    "    - absolute in specific range for thickness\n",
    "- generate SOL200 cards for SOLID MAT1\n",
    "    - E Module\n",
    "    - E+RHO\n",
    "- generate SOL200 cards for PBUSH stiffness\n",
    "- generate SOL200 cards for PBEAML dimensions"
   ],
   "metadata": {}
  },
  {
   "cell_type": "markdown",
   "source": [
    "#### PSHELLS"
   ],
   "metadata": {}
  },
  {
   "cell_type": "code",
   "execution_count": 16,
   "source": [
    "pshells = []\r\n",
    "for pid in bdf.properties.keys():\r\n",
    "    if bdf.properties[pid].type == \"PSHELL\":\r\n",
    "        print(\"Found PSHELL \",pid,\" \", bdf.properties[pid])\r\n",
    "        pshells.append(bdf.properties[pid])"
   ],
   "outputs": [
    {
     "output_type": "stream",
     "name": "stdout",
     "text": [
      "Found PSHELL  1   $*\n",
      "$*  PROPERTY CARDS\n",
      "$*\n",
      "$*\n",
      "$*  I-DEAS property: 1  name: BUS PNL HCMB 2PLY\n",
      "PSHELL         1       6    .036       61415.815       7  22.234 3.551-6\n",
      "              .4     -.4\n",
      "\n",
      "Found PSHELL  2   $*\n",
      "$*  I-DEAS property: 2  name: BUS PNL EDGE HCMB 3PLY\n",
      "PSHELL         2       6    .054       6614.9918       7  14.8333.4655-6\n",
      "              .4     -.4\n",
      "\n",
      "Found PSHELL  3   $*\n",
      "$*  I-DEAS property: 3  name: BUS PNL HCMB 1PLY\n",
      "PSHELL         3       6    .018       65793.593       7 44.45023.6339-6\n",
      "              .4     -.4\n",
      "\n",
      "Found PSHELL  7   $*\n",
      "$*  I-DEAS property: 7  name: RCS_PNL_CFRP_HCOMB\n",
      "PSHELL         7       9    .036       91549.148      11 23.23353.7168-6\n",
      "            .418   -.418\n",
      "\n",
      "Found PSHELL  34   $*\n",
      "$*  I-DEAS property: 34   name: ANTENNA_TWR_HCOMB_SHL\n",
      "PSHELL        34      13   .0186      13 1250.43      14  20.9261.7193-6\n",
      "            .194   -.194\n",
      "\n",
      "Found PSHELL  38   $*\n",
      "$*  I-DEAS property: 38   name: HGA_LG_HCOMB_SHL\n",
      "PSHELL        38      13   .0186      132718.591      14   30.61.0000028\n",
      "            .284   -.284\n",
      "\n",
      "Found PSHELL  46   $*\n",
      "$*  I-DEAS property: 46   name: HGA_SM_HCOMB_SHL\n",
      "PSHELL        46      13   .0186      131317.221      14  21.464  1.77-6\n",
      "            .199   -.199\n",
      "\n",
      "Found PSHELL  37   $*\n",
      "$*  I-DEAS property: 37   name: PV_PNL_HCOMB_NSM\n",
      "PSHELL        37      24   .0186      243226.351      25    33.3 2.362-5\n",
      "            .309   -.309\n",
      "\n"
     ]
    }
   ],
   "metadata": {}
  },
  {
   "cell_type": "code",
   "execution_count": 17,
   "source": [
    "pshells"
   ],
   "outputs": [
    {
     "output_type": "execute_result",
     "data": {
      "text/plain": [
       "[$*\n",
       " $*  PROPERTY CARDS\n",
       " $*\n",
       " $*\n",
       " $*  I-DEAS property: 1  name: BUS PNL HCMB 2PLY\n",
       " PSHELL         1       6    .036       61415.815       7  22.234 3.551-6\n",
       "               .4     -.4,\n",
       " $*\n",
       " $*  I-DEAS property: 2  name: BUS PNL EDGE HCMB 3PLY\n",
       " PSHELL         2       6    .054       6614.9918       7  14.8333.4655-6\n",
       "               .4     -.4,\n",
       " $*\n",
       " $*  I-DEAS property: 3  name: BUS PNL HCMB 1PLY\n",
       " PSHELL         3       6    .018       65793.593       7 44.45023.6339-6\n",
       "               .4     -.4,\n",
       " $*\n",
       " $*  I-DEAS property: 7  name: RCS_PNL_CFRP_HCOMB\n",
       " PSHELL         7       9    .036       91549.148      11 23.23353.7168-6\n",
       "             .418   -.418,\n",
       " $*\n",
       " $*  I-DEAS property: 34   name: ANTENNA_TWR_HCOMB_SHL\n",
       " PSHELL        34      13   .0186      13 1250.43      14  20.9261.7193-6\n",
       "             .194   -.194,\n",
       " $*\n",
       " $*  I-DEAS property: 38   name: HGA_LG_HCOMB_SHL\n",
       " PSHELL        38      13   .0186      132718.591      14   30.61.0000028\n",
       "             .284   -.284,\n",
       " $*\n",
       " $*  I-DEAS property: 46   name: HGA_SM_HCOMB_SHL\n",
       " PSHELL        46      13   .0186      131317.221      14  21.464  1.77-6\n",
       "             .199   -.199,\n",
       " $*\n",
       " $*  I-DEAS property: 37   name: PV_PNL_HCOMB_NSM\n",
       " PSHELL        37      24   .0186      243226.351      25    33.3 2.362-5\n",
       "             .309   -.309]"
      ]
     },
     "metadata": {},
     "execution_count": 17
    }
   ],
   "metadata": {}
  },
  {
   "cell_type": "code",
   "execution_count": null,
   "source": [],
   "outputs": [],
   "metadata": {}
  }
 ],
 "metadata": {
  "kernelspec": {
   "name": "python3",
   "display_name": "Python 3.8.8 64-bit ('base': conda)"
  },
  "language_info": {
   "codemirror_mode": {
    "name": "ipython",
    "version": 3
   },
   "file_extension": ".py",
   "mimetype": "text/x-python",
   "name": "python",
   "nbconvert_exporter": "python",
   "pygments_lexer": "ipython3",
   "version": "3.8.8"
  },
  "interpreter": {
   "hash": "9de67a77348d057e846f113e1cf8179924622e4ee2e28372144426ddc178d37b"
  }
 },
 "nbformat": 4,
 "nbformat_minor": 4
}