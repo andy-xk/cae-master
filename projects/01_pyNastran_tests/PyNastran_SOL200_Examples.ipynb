{
 "cells": [
  {
   "cell_type": "markdown",
   "metadata": {},
   "source": [
    "# PyNastran SOL200 Examples"
   ]
  },
  {
   "cell_type": "code",
   "execution_count": 4,
   "metadata": {},
   "outputs": [
    {
     "name": "stdout",
     "output_type": "stream",
     "text": [
      "/workspace/.pip-modules/lib/python3.8/site-packages/pyNastran/__init__.py\n",
      "1.4.0+dev.no.checksum.error\n",
      "Package path:  /workspace/.pip-modules/lib/python3.8/site-packages/pyNastran\n"
     ]
    }
   ],
   "source": [
    "import os\n",
    "import sys\n",
    "\n",
    "import pyNastran\n",
    "import csv\n",
    "\n",
    "from pyNastran.bdf.bdf import BDF, read_bdf\n",
    "from pyNastran.bdf.subcase import * # for write_set\n",
    "from pyNastran.utils import object_attributes, object_methods\n",
    "from pyNastran.bdf.mesh_utils.mass_properties import mass_properties\n",
    "\n",
    "print (pyNastran.__file__)\n",
    "print (pyNastran.__version__)\n",
    "pkg_path = pyNastran.__path__[0]\n",
    "print (\"Package path: \", pkg_path)\n",
    "workspace_path = '/workspace/nastrancore/'\n",
    "model_path = workspace_path + 'models'"
   ]
  },
  {
   "cell_type": "markdown",
   "metadata": {},
   "source": [
    "## iSat Test"
   ]
  },
  {
   "cell_type": "code",
   "execution_count": 6,
   "metadata": {},
   "outputs": [
    {
     "name": "stdout",
     "output_type": "stream",
     "text": [
      "/workspace/nastrancore/models/pyNastran_models/iSat/ISat_Dploy_Sm.dat\n"
     ]
    },
    {
     "data": {
      "text/html": [
       "<text style=color:blue>DEBUG:   bdf.py:1010                  ---starting BDF.read_bdf of /workspace/nastrancore/models/pyNastran_models/iSat/ISat_Dploy_Sm.dat---\n",
       "</text>"
      ],
      "text/plain": [
       "<IPython.core.display.HTML object>"
      ]
     },
     "metadata": {},
     "output_type": "display_data"
    },
    {
     "data": {
      "text/html": [
       "<text style=color:blue>DEBUG:   pybdf.py:556                 opening '/workspace/nastrancore/models/pyNastran_models/iSat/ISat_Dploy_Sm.dat'\n",
       "</text>"
      ],
      "text/plain": [
       "<IPython.core.display.HTML object>"
      ]
     },
     "metadata": {},
     "output_type": "display_data"
    },
    {
     "data": {
      "text/html": [
       "<text style=color:blue>DEBUG:   cross_reference.py:151       Cross Referencing...\n",
       "</text>"
      ],
      "text/plain": [
       "<IPython.core.display.HTML object>"
      ]
     },
     "metadata": {},
     "output_type": "display_data"
    },
    {
     "data": {
      "text/html": [
       "<text style=color:orange>WARNING: shell.py:2544                PSHELL pid=1 midsurface: z1=0.4 z2=-0.4 t=0.036 not in range of -1.5t < zi < 1.5t\n",
       "</text>"
      ],
      "text/plain": [
       "<IPython.core.display.HTML object>"
      ]
     },
     "metadata": {},
     "output_type": "display_data"
    },
    {
     "data": {
      "text/html": [
       "<text style=color:orange>WARNING: shell.py:2544                PSHELL pid=2 midsurface: z1=0.4 z2=-0.4 t=0.054 not in range of -1.5t < zi < 1.5t\n",
       "</text>"
      ],
      "text/plain": [
       "<IPython.core.display.HTML object>"
      ]
     },
     "metadata": {},
     "output_type": "display_data"
    },
    {
     "data": {
      "text/html": [
       "<text style=color:orange>WARNING: shell.py:2544                PSHELL pid=3 midsurface: z1=0.4 z2=-0.4 t=0.018 not in range of -1.5t < zi < 1.5t\n",
       "</text>"
      ],
      "text/plain": [
       "<IPython.core.display.HTML object>"
      ]
     },
     "metadata": {},
     "output_type": "display_data"
    },
    {
     "data": {
      "text/html": [
       "<text style=color:orange>WARNING: shell.py:2544                PSHELL pid=7 midsurface: z1=0.418 z2=-0.418 t=0.036 not in range of -1.5t < zi < 1.5t\n",
       "</text>"
      ],
      "text/plain": [
       "<IPython.core.display.HTML object>"
      ]
     },
     "metadata": {},
     "output_type": "display_data"
    },
    {
     "data": {
      "text/html": [
       "<text style=color:orange>WARNING: shell.py:2544                PSHELL pid=34 midsurface: z1=0.194 z2=-0.194 t=0.0186 not in range of -1.5t < zi < 1.5t\n",
       "</text>"
      ],
      "text/plain": [
       "<IPython.core.display.HTML object>"
      ]
     },
     "metadata": {},
     "output_type": "display_data"
    },
    {
     "data": {
      "text/html": [
       "<text style=color:orange>WARNING: shell.py:2544                PSHELL pid=38 midsurface: z1=0.284 z2=-0.284 t=0.0186 not in range of -1.5t < zi < 1.5t\n",
       "</text>"
      ],
      "text/plain": [
       "<IPython.core.display.HTML object>"
      ]
     },
     "metadata": {},
     "output_type": "display_data"
    },
    {
     "data": {
      "text/html": [
       "<text style=color:orange>WARNING: shell.py:2544                PSHELL pid=46 midsurface: z1=0.199 z2=-0.199 t=0.0186 not in range of -1.5t < zi < 1.5t\n",
       "</text>"
      ],
      "text/plain": [
       "<IPython.core.display.HTML object>"
      ]
     },
     "metadata": {},
     "output_type": "display_data"
    },
    {
     "data": {
      "text/html": [
       "<text style=color:orange>WARNING: shell.py:2544                PSHELL pid=37 midsurface: z1=0.309 z2=-0.309 t=0.0186 not in range of -1.5t < zi < 1.5t\n",
       "</text>"
      ],
      "text/plain": [
       "<IPython.core.display.HTML object>"
      ]
     },
     "metadata": {},
     "output_type": "display_data"
    },
    {
     "data": {
      "text/html": [
       "<text style=color:blue>DEBUG:   bdf.py:1058                  ---finished BDF.read_bdf of /workspace/nastrancore/models/pyNastran_models/iSat/ISat_Dploy_Sm.dat---\n",
       "</text>"
      ],
      "text/plain": [
       "<IPython.core.display.HTML object>"
      ]
     },
     "metadata": {},
     "output_type": "display_data"
    }
   ],
   "source": [
    "bdf_filename2 = os.path.abspath(os.path.join(model_path, 'pyNastran_models', 'iSat', 'ISat_Dploy_Sm.dat'))\n",
    "print(bdf_filename2)\n",
    "bdf = read_bdf(bdf_filename2, xref=True)\n",
    "# os.listdir('/workspace/nastrancore/models/pyNastran_models')\n"
   ]
  },
  {
   "cell_type": "code",
   "execution_count": 7,
   "metadata": {},
   "outputs": [
    {
     "name": "stdout",
     "output_type": "stream",
     "text": [
      "---BDF Statistics---\n",
      "SOL 103\n",
      "\n",
      "bdf.params\n",
      "  PARAM    : 6\n",
      "\n",
      "bdf.nodes\n",
      "  GRID     : 5367\n",
      "\n",
      "bdf.elements\n",
      "  CBAR     : 790\n",
      "  CBUSH    : 96\n",
      "  CHEXA    : 25\n",
      "  CQUAD4   : 4580\n",
      "  CTRIA3   : 32\n",
      "\n",
      "bdf.rigid_elements\n",
      "  RBE2     : 43\n",
      "\n",
      "bdf.properties\n",
      "  PBARL    : 18\n",
      "  PBUSH    : 1\n",
      "  PSHELL   : 8\n",
      "  PSOLID   : 4\n",
      "\n",
      "bdf.masses\n",
      "  CONM2    : 15\n",
      "\n",
      "bdf.materials\n",
      "  MAT1     : 13\n",
      "  MAT8     : 8\n",
      "\n",
      "bdf.coords\n",
      "  CORD2R   : 73\n",
      "\n",
      "bdf.methods\n",
      "  EIGRL    : 1\n",
      "\n",
      "bdf.usets\n",
      "  USET     : 2\n",
      "\n",
      "\n"
     ]
    }
   ],
   "source": [
    "print(bdf.get_bdf_stats())"
   ]
  },
  {
   "cell_type": "markdown",
   "metadata": {},
   "source": [
    "### Create SOL200 Cards"
   ]
  },
  {
   "cell_type": "markdown",
   "metadata": {},
   "source": [
    "Work:\n",
    "- generate SOL200 cards vor PSHELLS\n",
    "    - absolute in specific range for thickness\n",
    "- generate SOL200 cards for SOLID MAT1\n",
    "    - E Module\n",
    "    - E+RHO\n",
    "- generate SOL200 cards for PBUSH stiffness\n",
    "- generate SOL200 cards for PBEAML dimensions"
   ]
  },
  {
   "cell_type": "markdown",
   "metadata": {},
   "source": [
    "#### PSHELLS"
   ]
  },
  {
   "cell_type": "code",
   "execution_count": 29,
   "metadata": {},
   "outputs": [
    {
     "name": "stdout",
     "output_type": "stream",
     "text": [
      "Found PSHELL  1   $*\n",
      "$*  PROPERTY CARDS\n",
      "$*\n",
      "$*\n",
      "$*  I-DEAS property: 1  name: BUS PNL HCMB 2PLY\n",
      "PSHELL         1       6    .036       61415.815       7  22.234 3.551-6\n",
      "              .4     -.4\n",
      "\n",
      "Found PSHELL  2   $*\n",
      "$*  I-DEAS property: 2  name: BUS PNL EDGE HCMB 3PLY\n",
      "PSHELL         2       6    .054       6614.9918       7  14.8333.4655-6\n",
      "              .4     -.4\n",
      "\n",
      "Found PSHELL  3   $*\n",
      "$*  I-DEAS property: 3  name: BUS PNL HCMB 1PLY\n",
      "PSHELL         3       6    .018       65793.593       7 44.45023.6339-6\n",
      "              .4     -.4\n",
      "\n",
      "Found PSHELL  7   $*\n",
      "$*  I-DEAS property: 7  name: RCS_PNL_CFRP_HCOMB\n",
      "PSHELL         7       9    .036       91549.148      11 23.23353.7168-6\n",
      "            .418   -.418\n",
      "\n",
      "Found PSHELL  34   $*\n",
      "$*  I-DEAS property: 34   name: ANTENNA_TWR_HCOMB_SHL\n",
      "PSHELL        34      13   .0186      13 1250.43      14  20.9261.7193-6\n",
      "            .194   -.194\n",
      "\n",
      "Found PSHELL  38   $*\n",
      "$*  I-DEAS property: 38   name: HGA_LG_HCOMB_SHL\n",
      "PSHELL        38      13   .0186      132718.591      14   30.61.0000028\n",
      "            .284   -.284\n",
      "\n",
      "Found PSHELL  46   $*\n",
      "$*  I-DEAS property: 46   name: HGA_SM_HCOMB_SHL\n",
      "PSHELL        46      13   .0186      131317.221      14  21.464  1.77-6\n",
      "            .199   -.199\n",
      "\n",
      "Found PSHELL  37   $*\n",
      "$*  I-DEAS property: 37   name: PV_PNL_HCOMB_NSM\n",
      "PSHELL        37      24   .0186      243226.351      25    33.3 2.362-5\n",
      "            .309   -.309\n",
      "\n"
     ]
    }
   ],
   "source": [
    "pshells = []\n",
    "for pid in bdf.properties.keys():\n",
    "    if bdf.properties[pid].type == \"PSHELL\":\n",
    "        print(\"Found PSHELL \",pid,\" \", bdf.properties[pid])\n",
    "        pshells.append(bdf.properties[pid])"
   ]
  },
  {
   "cell_type": "code",
   "execution_count": 30,
   "metadata": {},
   "outputs": [
    {
     "data": {
      "text/plain": [
       "[$*\n",
       " $*  PROPERTY CARDS\n",
       " $*\n",
       " $*\n",
       " $*  I-DEAS property: 1  name: BUS PNL HCMB 2PLY\n",
       " PSHELL         1       6    .036       61415.815       7  22.234 3.551-6\n",
       "               .4     -.4,\n",
       " $*\n",
       " $*  I-DEAS property: 2  name: BUS PNL EDGE HCMB 3PLY\n",
       " PSHELL         2       6    .054       6614.9918       7  14.8333.4655-6\n",
       "               .4     -.4,\n",
       " $*\n",
       " $*  I-DEAS property: 3  name: BUS PNL HCMB 1PLY\n",
       " PSHELL         3       6    .018       65793.593       7 44.45023.6339-6\n",
       "               .4     -.4,\n",
       " $*\n",
       " $*  I-DEAS property: 7  name: RCS_PNL_CFRP_HCOMB\n",
       " PSHELL         7       9    .036       91549.148      11 23.23353.7168-6\n",
       "             .418   -.418,\n",
       " $*\n",
       " $*  I-DEAS property: 34   name: ANTENNA_TWR_HCOMB_SHL\n",
       " PSHELL        34      13   .0186      13 1250.43      14  20.9261.7193-6\n",
       "             .194   -.194,\n",
       " $*\n",
       " $*  I-DEAS property: 38   name: HGA_LG_HCOMB_SHL\n",
       " PSHELL        38      13   .0186      132718.591      14   30.61.0000028\n",
       "             .284   -.284,\n",
       " $*\n",
       " $*  I-DEAS property: 46   name: HGA_SM_HCOMB_SHL\n",
       " PSHELL        46      13   .0186      131317.221      14  21.464  1.77-6\n",
       "             .199   -.199,\n",
       " $*\n",
       " $*  I-DEAS property: 37   name: PV_PNL_HCOMB_NSM\n",
       " PSHELL        37      24   .0186      243226.351      25    33.3 2.362-5\n",
       "             .309   -.309]"
      ]
     },
     "execution_count": 30,
     "metadata": {},
     "output_type": "execute_result"
    }
   ],
   "source": [
    "pshells"
   ]
  },
  {
   "cell_type": "code",
   "execution_count": null,
   "metadata": {},
   "outputs": [],
   "source": []
  }
 ],
 "metadata": {
  "kernelspec": {
   "display_name": "Python 3",
   "language": "python",
   "name": "python3"
  },
  "language_info": {
   "codemirror_mode": {
    "name": "ipython",
    "version": 3
   },
   "file_extension": ".py",
   "mimetype": "text/x-python",
   "name": "python",
   "nbconvert_exporter": "python",
   "pygments_lexer": "ipython3",
   "version": "3.8.5"
  }
 },
 "nbformat": 4,
 "nbformat_minor": 4
}
