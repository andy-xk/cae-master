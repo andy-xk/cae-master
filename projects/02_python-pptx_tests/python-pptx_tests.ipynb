{
 "cells": [
  {
   "cell_type": "markdown",
   "id": "sacred-diesel",
   "metadata": {},
   "source": [
    "# python-pptx tests"
   ]
  },
  {
   "cell_type": "markdown",
   "id": "higher-poster",
   "metadata": {},
   "source": [
    "gitpod usage:\n",
    "To edit and create a libre office power point document, start the novnc in the browser, right-click on the black screen and start libre office impress.\n",
    "By this method, the power point file python-pptx-example_01.pptx was created manually."
   ]
  },
  {
   "cell_type": "code",
   "execution_count": null,
   "id": "north-segment",
   "metadata": {},
   "outputs": [],
   "source": [
    "bbb\n"
   ]
  }
 ],
 "metadata": {
  "kernelspec": {
   "display_name": "Python 3",
   "language": "python",
   "name": "python3"
  },
  "language_info": {
   "codemirror_mode": {
    "name": "ipython",
    "version": 3
   },
   "file_extension": ".py",
   "mimetype": "text/x-python",
   "name": "python",
   "nbconvert_exporter": "python",
   "pygments_lexer": "ipython3",
   "version": "3.8.8"
  }
 },
 "nbformat": 4,
 "nbformat_minor": 5
}