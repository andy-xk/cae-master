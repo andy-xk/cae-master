{
 "cells": [
  {
   "cell_type": "code",
   "execution_count": null,
   "metadata": {},
   "outputs": [],
   "source": []
  },
  {
   "cell_type": "code",
   "execution_count": null,
   "metadata": {},
   "outputs": [],
   "source": []
  },
  {
   "cell_type": "code",
   "execution_count": null,
   "metadata": {},
   "outputs": [],
   "source": []
  },
  {
   "cell_type": "code",
   "execution_count": null,
   "metadata": {},
   "outputs": [
    {
     "ename": "Error",
     "evalue": "Session cannot generate requests",
     "output_type": "error",
     "traceback": [
      "Error: Session cannot generate requests",
      "at w.executeCodeCell (c:\\Users\\Andreas\\.vscode\\extensions\\ms-toolsai.jupyter-2021.6.832593372\\out\\client\\extension.js:90:316184)",
      "at w.execute (c:\\Users\\Andreas\\.vscode\\extensions\\ms-toolsai.jupyter-2021.6.832593372\\out\\client\\extension.js:90:315573)",
      "at w.start (c:\\Users\\Andreas\\.vscode\\extensions\\ms-toolsai.jupyter-2021.6.832593372\\out\\client\\extension.js:90:311378)",
      "at runMicrotasks (<anonymous>)",
      "at processTicksAndRejections (internal/process/task_queues.js:93:5)",
      "at async t.CellExecutionQueue.executeQueuedCells (c:\\Users\\Andreas\\.vscode\\extensions\\ms-toolsai.jupyter-2021.6.832593372\\out\\client\\extension.js:90:325786)",
      "at async t.CellExecutionQueue.start (c:\\Users\\Andreas\\.vscode\\extensions\\ms-toolsai.jupyter-2021.6.832593372\\out\\client\\extension.js:90:325326)"
     ]
    }
   ],
   "source": [
    "from dsv_database import dsv_database\r\n",
    "\r\n",
    "DB = dsv_database(\"C:/Users/Andreas/Documents/GitHub/cae-master/projects/03_simple_database/database.csv\")\r\n",
    "\r\n",
    "# get all dataset values as dict\r\n",
    "result = DB.get(\"Konzept 306\")\r\n",
    "print(\"Torsional stiffness: \", result['c_T'])\r\n",
    "\r\n",
    "# get specific dataset value\r\n",
    "c_T = DB.get_value(\"Konzept 306\", \"c_T\")\r\n",
    "print(\"Torsional stiffness: \", c_T)\r\n",
    "\r\n",
    "# get list of all available values\r\n",
    "print(\"Available values: \", ', '.join(DB.get(\"Konzept 306\").keys()))\r\n",
    "print(\"Available values: \", DB.keys())\r\n",
    "\r\n",
    "# iterate dataset\r\n",
    "var = DB.get(\"Konzept 304\")\r\n",
    "for i in DB.keys():\r\n",
    "    print(i, var[i])\r\n",
    "\r\n",
    "# write databse to dsv\r\n",
    "DB.to_csv(\"C:/Users/Andreas/Documents/GitHub/cae-master/projects/03_simple_database/database_new.csv\")\r\n",
    "\r\n",
    "# write datavbase to excel\r\n",
    "DB.to_excel(\"C:/Users/Andreas/Documents/GitHub/cae-master/projects/03_simple_database/database_new.xlsx\")\r\n",
    "\r\n"
   ]
  },
  {
   "cell_type": "code",
   "execution_count": null,
   "metadata": {},
   "outputs": [],
   "source": [
    "!ls\r\n"
   ]
  }
 ],
 "metadata": {
  "kernelspec": {
   "display_name": "Python 3.7.3 64-bit ('base': conda)",
   "name": "python373jvsc74a57bd0a165429d2ec85e820228d31a57779fd738597a37070c20e5ec399b9c7bb4af3f"
  },
  "language_info": {
   "codemirror_mode": {
    "name": "ipython",
    "version": 3
   },
   "file_extension": ".py",
   "mimetype": "text/x-python",
   "name": "python",
   "nbconvert_exporter": "python",
   "pygments_lexer": "ipython3",
   "version": "3.7.3"
  },
  "orig_nbformat": 2
 },
 "nbformat": 4,
 "nbformat_minor": 2
}